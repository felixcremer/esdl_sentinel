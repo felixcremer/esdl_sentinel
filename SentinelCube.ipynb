{
 "cells": [
  {
   "cell_type": "code",
   "execution_count": 2,
   "metadata": {},
   "outputs": [],
   "source": [
    "]activate ."
   ]
  },
  {
   "cell_type": "code",
   "execution_count": 1,
   "metadata": {},
   "outputs": [
    {
     "name": "stdout",
     "output_type": "stream",
     "text": [
      "\u001b[32m\u001b[1m    Status\u001b[22m\u001b[39m `~/Dokumente/Programmieren/julia_projects/esdl_call/Project.toml`\n",
      " \u001b[90m [8f4d0f93]\u001b[39m\u001b[37m   Conda v1.1.1\u001b[39m\n",
      " \u001b[90m [359177bc]\u001b[39m\u001b[93m ↑ ESDL v0.4.15 #master (https://github.com/esa-esdl/ESDL.jl) ⇒ v0.5.0 [`~/.julia/dev/ESDL`]\u001b[39m\n",
      " \u001b[90m [d555b242]\u001b[39m\u001b[91m - ESDLPlots v0.1.4 #master (https://github.com/esa-esdl/ESDLPlots.jl)\u001b[39m\n",
      " \u001b[90m [98b081ad]\u001b[39m\u001b[92m + Literate v1.1.0\u001b[39m\n",
      " \u001b[90m [438e738f]\u001b[39m\u001b[37m   PyCall v1.18.5\u001b[39m\n",
      " \u001b[90m [b1dc47e8]\u001b[39m\u001b[92m + SentinelMissings v0.1.3 #master (https://github.com/meggart/SentinelMissings.jl.git)\u001b[39m\n",
      " \u001b[90m [bbac0a1f]\u001b[39m\u001b[92m + WeightedOnlineStats v0.3.0\u001b[39m\n",
      "\u001b[32m\u001b[1m    Status\u001b[22m\u001b[39m `~/Dokumente/Programmieren/julia_projects/esdl_call/Manifest.toml`\n",
      " \u001b[90m [359177bc]\u001b[39m\u001b[93m ↑ ESDL v0.4.15 #master (https://github.com/esa-esdl/ESDL.jl) ⇒ v0.5.0 [`~/.julia/dev/ESDL`]\u001b[39m\n",
      " \u001b[90m [d555b242]\u001b[39m\u001b[91m - ESDLPlots v0.1.4 #master (https://github.com/esa-esdl/ESDLPlots.jl)\u001b[39m\n",
      " \u001b[90m [98b081ad]\u001b[39m\u001b[92m + Literate v1.1.0\u001b[39m\n",
      " \u001b[90m [b1dc47e8]\u001b[39m\u001b[92m + SentinelMissings v0.1.3 #master (https://github.com/meggart/SentinelMissings.jl.git)\u001b[39m\n",
      " \u001b[90m [bbac0a1f]\u001b[39m\u001b[93m ↑ WeightedOnlineStats v0.1.8 ⇒ v0.3.0\u001b[39m\n"
     ]
    }
   ],
   "source": [
    "]st"
   ]
  },
  {
   "cell_type": "code",
   "execution_count": 2,
   "metadata": {},
   "outputs": [
    {
     "name": "stderr",
     "output_type": "stream",
     "text": [
      "┌ Info: Recompiling stale cache file /home/qe89hep/.julia/compiled/v1.1/ESDL/2Q02O.ji for ESDL [359177bc-a543-11e8-11b7-bb015dba3358]\n",
      "└ @ Base loading.jl:1184\n"
     ]
    }
   ],
   "source": [
    "using Revise, ESDL"
   ]
  },
  {
   "cell_type": "code",
   "execution_count": null,
   "metadata": {},
   "outputs": [],
   "source": []
  },
  {
   "cell_type": "markdown",
   "metadata": {},
   "source": [
    "### Bugs discovered during the meeting\n",
    "\n",
    "- error during mapCube was caused by misinterpreting `None` in the cube chunks entry -> was fixed in code but it is strongly recommended to alway write the chunk size to help speed up the processing\n",
    "- error in `YearStepRange` was caused by this implementation of `in` https://github.com/JuliaLang/julia/blob/80516ca20297a67b996caa08c38786332379b6a5/base/range.jl#L976 which obviously does not work for my custom range. Was fixed by adding a special method"
   ]
  },
  {
   "cell_type": "code",
   "execution_count": 3,
   "metadata": {},
   "outputs": [
    {
     "data": {
      "text/plain": [
       "ESDL data cube at /home/qe89hep/Daten/esdl/s1cube_1dayall/\n",
       "Spatial resolution:  1008x1071 at 0.00017966305690109152 degrees.\n",
       "Temporal resolution: 2014-10-03 to 2019-07-11 at 1daily time steps\n",
       "Variables:           sentinel1_vh_a sentinel1_vh_d sentinel1_vv_a sentinel1_vv_d \n"
      ]
     },
     "execution_count": 3,
     "metadata": {},
     "output_type": "execute_result"
    }
   ],
   "source": [
    "c=Cube(\"/home/qe89hep/Daten/esdl/s1cube_1dayall/\")"
   ]
  },
  {
   "cell_type": "code",
   "execution_count": 56,
   "metadata": {},
   "outputs": [
    {
     "data": {
      "text/html": [
       "0-element Array{Method,1}"
      ],
      "text/plain": []
     },
     "execution_count": 56,
     "metadata": {},
     "output_type": "execute_result"
    }
   ],
   "source": [
    "methodswith(typeof(d))"
   ]
  },
  {
   "cell_type": "code",
   "execution_count": 5,
   "metadata": {},
   "outputs": [
    {
     "data": {
      "text/plain": [
       "Data Cube view with the following dimensions\n",
       "Lon                 Axis with 1008 Elements from -179.99991016847156 to -179.81898947017217\n",
       "Lat                 Axis with 1071 Elements from 89.99991016847154 to 89.80767069758738\n",
       "Time                Axis with 1346 Elements from 2014-10-04 to 2018-06-11\n",
       "Variable            Axis with 2 elements: sentinel1_VH sentinel1_VV \n",
       "Total size: 13.53 GB\n"
      ]
     },
     "execution_count": 5,
     "metadata": {},
     "output_type": "execute_result"
    }
   ],
   "source": [
    "d = getCubeData(c)"
   ]
  },
  {
   "cell_type": "code",
   "execution_count": 30,
   "metadata": {},
   "outputs": [
    {
     "name": "stdout",
     "output_type": "stream",
     "text": [
      "search: \u001b[0m\u001b[1me\u001b[22m\u001b[0m\u001b[1ma\u001b[22m\u001b[0m\u001b[1mc\u001b[22m\u001b[0m\u001b[1mh\u001b[22m\u001b[0m\u001b[1ms\u001b[22m\u001b[0m\u001b[1ml\u001b[22m\u001b[0m\u001b[1mi\u001b[22m\u001b[0m\u001b[1mc\u001b[22m\u001b[0m\u001b[1me\u001b[22m\n",
      "\n"
     ]
    },
    {
     "data": {
      "text/latex": [
       "\\begin{verbatim}\n",
       "eachslice(A::AbstractArray; dims)\n",
       "\\end{verbatim}\n",
       "Create a generator that iterates over dimensions \\texttt{dims} of \\texttt{A}, returning views that select all the data from the other dimensions in \\texttt{A}.\n",
       "\n",
       "Only a single dimension in \\texttt{dims} is currently supported. Equivalent to \\texttt{(view(A,:,:,...,i,:,: ...)) for i in axes(A, dims))}, where \\texttt{i} is in position \\texttt{dims}.\n",
       "\n",
       "See also \\href{@ref}{\\texttt{eachrow}}, \\href{@ref}{\\texttt{eachcol}}, and \\href{@ref}{\\texttt{selectdim}}.\n",
       "\n",
       "\\begin{quote}\n",
       "\\textbf{compat}\n",
       "\n",
       "Julia 1.1\n",
       "\n",
       "This function requires at least Julia 1.1.\n",
       "\n",
       "\\end{quote}\n"
      ],
      "text/markdown": [
       "```\n",
       "eachslice(A::AbstractArray; dims)\n",
       "```\n",
       "\n",
       "Create a generator that iterates over dimensions `dims` of `A`, returning views that select all the data from the other dimensions in `A`.\n",
       "\n",
       "Only a single dimension in `dims` is currently supported. Equivalent to `(view(A,:,:,...,i,:,: ...)) for i in axes(A, dims))`, where `i` is in position `dims`.\n",
       "\n",
       "See also [`eachrow`](@ref), [`eachcol`](@ref), and [`selectdim`](@ref).\n",
       "\n",
       "!!! compat \"Julia 1.1\"\n",
       "    This function requires at least Julia 1.1.\n",
       "\n"
      ],
      "text/plain": [
       "\u001b[36m  eachslice(A::AbstractArray; dims)\u001b[39m\n",
       "\n",
       "  Create a generator that iterates over dimensions \u001b[36mdims\u001b[39m of \u001b[36mA\u001b[39m, returning views\n",
       "  that select all the data from the other dimensions in \u001b[36mA\u001b[39m.\n",
       "\n",
       "  Only a single dimension in \u001b[36mdims\u001b[39m is currently supported. Equivalent to\n",
       "  \u001b[36m(view(A,:,:,...,i,:,: ...)) for i in axes(A, dims))\u001b[39m, where \u001b[36mi\u001b[39m is in position\n",
       "  \u001b[36mdims\u001b[39m.\n",
       "\n",
       "  See also \u001b[36meachrow\u001b[39m, \u001b[36meachcol\u001b[39m, and \u001b[36mselectdim\u001b[39m.\n",
       "\n",
       "\u001b[39m\u001b[1m  │ \u001b[22m\u001b[39m\u001b[1mJulia 1.1\u001b[22m\n",
       "\u001b[39m\u001b[1m  │\u001b[22m\n",
       "\u001b[39m\u001b[1m  │\u001b[22m  This function requires at least Julia 1.1."
      ]
     },
     "execution_count": 30,
     "metadata": {},
     "output_type": "execute_result"
    }
   ],
   "source": [
    "eachsl"
   ]
  },
  {
   "cell_type": "markdown",
   "metadata": {},
   "source": [
    "## Find out which time steps contain values"
   ]
  },
  {
   "cell_type": "code",
   "execution_count": 17,
   "metadata": {},
   "outputs": [
    {
     "name": "stdout",
     "output_type": "stream",
     "text": [
      "  0.010627 seconds (108 allocations: 14.419 MiB, 75.29% gc time)\n",
      "  0.032796 seconds (5.01 k allocations: 366.359 KiB)\n"
     ]
    },
    {
     "data": {
      "text/plain": [
       "109-element Array{Int64,1}:\n",
       "  411\n",
       "  723\n",
       "  747\n",
       "  771\n",
       "  795\n",
       "  819\n",
       "  842\n",
       "  875\n",
       "  887\n",
       "  890\n",
       "  899\n",
       "  902\n",
       "  911\n",
       "    ⋮\n",
       " 1304\n",
       " 1307\n",
       " 1310\n",
       " 1313\n",
       " 1316\n",
       " 1319\n",
       " 1322\n",
       " 1325\n",
       " 1328\n",
       " 1334\n",
       " 1337\n",
       " 1340"
      ]
     },
     "execution_count": 17,
     "metadata": {},
     "output_type": "execute_result"
    }
   ],
   "source": [
    "@time a = d[:,:,1,1]\n",
    "@time ts = d[100,100,:,1]\n",
    "ind = .!ismissing.(ts)\n",
    "findall(ind)"
   ]
  },
  {
   "cell_type": "code",
   "execution_count": 6,
   "metadata": {},
   "outputs": [
    {
     "name": "stderr",
     "output_type": "stream",
     "text": [
      "┌ Warning: There are still cache misses\n",
      "└ @ ESDL.DAT /home/qe89hep/.julia/packages/ESDL/bKX8H/src/DAT/DAT.jl:542\n",
      "┌ Warning: There are compressed caches misses, you may want to use a different cube chunking\n",
      "└ @ ESDL.DAT /home/qe89hep/.julia/packages/ESDL/bKX8H/src/DAT/DAT.jl:543\n"
     ]
    },
    {
     "ename": "InterruptException",
     "evalue": "InterruptException:",
     "output_type": "error",
     "traceback": [
      "InterruptException:",
      "",
      "Stacktrace:",
      " [1] Type at ./boot.jl:402 [inlined]",
      " [2] pwd() at ./file.jl:51",
      " [3] abspath at ./path.jl:325 [inlined]",
      " [4] ncgetatt(::String, ::String, ::String) at /home/qe89hep/.julia/packages/NetCDF/61OwG/src/NetCDF.jl:821",
      " [5] readFromDataYear(::Cube, ::SubArray{Float32,3,Array{Float32,4},Tuple{Base.Slice{Base.OneTo{Int64}},Base.Slice{Base.OneTo{Int64}},Base.Slice{Base.OneTo{Int64}},Int64},true}, ::SubArray{UInt8,3,Array{UInt8,4},Tuple{Base.Slice{Base.OneTo{Int64}},Base.Slice{Base.OneTo{Int64}},Base.Slice{Base.OneTo{Int64}},Int64},true}, ::String, ::Int64, ::Int64, ::Int64, ::Int64, ::Int64, ::Int64, ::Int64, ::Int64, ::Int64) at /home/qe89hep/.julia/packages/ESDL/bKX8H/src/CubeAPI/CubeAPI.jl:948",
      " [6] readAllyears(::ESDL.CubeAPI.SubCubeV{Float32,Cube}, ::Array{Float32,4}, ::Array{UInt8,4}, ::Int64, ::Int64, ::Int64, ::Int64, ::Int64, ::Int64, ::Int64, ::Int64, ::Int64, ::Int64) at /home/qe89hep/.julia/packages/ESDL/bKX8H/src/CubeAPI/CubeAPI.jl:857",
      " [7] _read(::ESDL.CubeAPI.SubCubeV{Float32,Cube}, ::ESDL.Cubes.Mask.MaskArray{Float32,4,Array{Float32,4},Array{UInt8,4}}, ::CartesianIndices{4,NTuple{4,UnitRange{Int64}}}) at /home/qe89hep/.julia/packages/ESDL/bKX8H/src/CubeAPI/CubeAPI.jl:825",
      " [8] _read(::ESDL.CubeAPI.SubCubeVPerm{Float32}, ::ESDL.Cubes.Mask.MaskArray{Float32,4,Array{Float32,4},Array{UInt8,4}}, ::CartesianIndices{4,NTuple{4,UnitRange{Int64}}}) at /home/qe89hep/.julia/packages/ESDL/bKX8H/src/CubeAPI/CubeAPI.jl:727",
      " [9] (::getfield(ESDL.DAT, Symbol(\"##55#59\")){Tuple{UnitRange{Int64}},typeof(ESDL.Cubes._read)})(::ESDL.DAT.InputCube{4}) at /home/qe89hep/.julia/packages/ESDL/bKX8H/src/DAT/DAT.jl:316",
      " [10] foreach at ./abstractarray.jl:1866 [inlined]",
      " [11] updatears(::ESDL.DAT.DATConfig{1,1}, ::Tuple{ESDL.DAT.InputCube{4}}, ::Tuple{UnitRange{Int64}}, ::typeof(ESDL.Cubes._read)) at /home/qe89hep/.julia/packages/ESDL/bKX8H/src/DAT/DAT.jl:308",
      " [12] updateinars(::ESDL.DAT.DATConfig{1,1}, ::Tuple{UnitRange{Int64}}) at /home/qe89hep/.julia/packages/ESDL/bKX8H/src/DAT/DAT.jl:320",
      " [13] runLoopArgs(::ESDL.DAT.DATConfig{1,1}, ::Tuple{Tuple{ESDL.Cubes.Mask.MaskArray{Float32,4,Array{Float32,4},Array{UInt8,4}}},Tuple{ESDL.Cubes.Mask.MaskArray{Float32,1,Array{Float32,1},Array{UInt8,1}}},Tuple{Tuple{ESDL.DAT.AllMissing}},ESDL.DAT.InnerObj{(3,),(0,),((1,), (1,)),false,(),false},Tuple{ESDL.Cubes.Mask.MaskArray{Float32,3,Array{Float32,3},Array{UInt8,3}}},Tuple{ESDL.Cubes.Mask.MaskArray{Float32,0,Array{Float32,0},Array{UInt8,0}}},Tuple{ESDL.Cubes.Axes._RangeAxis{Dates.Date,:Time,ESDL.Cubes.Axes.YearStepRange}},Tuple{},Base.Iterators.Pairs{Union{},Union{},Tuple{},NamedTuple{(),Tuple{}}}}, ::Base.Iterators.ProductIterator{Tuple{Array{UnitRange{Int64},1}}}, ::Bool) at /home/qe89hep/.julia/packages/ESDL/bKX8H/src/DAT/DAT.jl:362",
      " [14] runLoop(::ESDL.DAT.DATConfig{1,1}, ::Base.Iterators.ProductIterator{Tuple{Array{UnitRange{Int64},1}}}, ::Bool) at /home/qe89hep/.julia/packages/ESDL/bKX8H/src/DAT/DAT.jl:356",
      " [15] runLoop(::ESDL.DAT.DATConfig{1,1}) at /home/qe89hep/.julia/packages/ESDL/bKX8H/src/DAT/DAT.jl:330",
      " [16] #mapCube#52(::Float64, ::InDims, ::OutDims, ::Bool, ::String, ::Bool, ::Bool, ::Bool, ::Base.Iterators.Pairs{Union{},Union{},Tuple{},NamedTuple{(),Tuple{}}}, ::typeof(mapCube), ::getfield(Main, Symbol(\"##3#4\")), ::Tuple{ESDL.CubeAPI.SubCubeV{Float32,Cube}}) at /home/qe89hep/.julia/packages/ESDL/bKX8H/src/DAT/DAT.jl:265",
      " [17] (::getfield(ESDL.DAT, Symbol(\"#kw##mapCube\")))(::NamedTuple{(:indims, :outdims, :inplace),Tuple{InDims,OutDims,Bool}}, ::typeof(mapCube), ::Function, ::Tuple{ESDL.CubeAPI.SubCubeV{Float32,Cube}}) at ./none:0",
      " [18] #mapCube#50(::Base.Iterators.Pairs{Symbol,Any,Tuple{Symbol,Symbol,Symbol},NamedTuple{(:indims, :outdims, :inplace),Tuple{InDims,OutDims,Bool}}}, ::Function, ::Function, ::ESDL.CubeAPI.SubCubeV{Float32,Cube}) at /home/qe89hep/.julia/packages/ESDL/bKX8H/src/DAT/DAT.jl:205",
      " [19] (::getfield(ESDL.DAT, Symbol(\"#kw##mapCube\")))(::NamedTuple{(:indims, :outdims, :inplace),Tuple{InDims,OutDims,Bool}}, ::typeof(mapCube), ::Function, ::ESDL.CubeAPI.SubCubeV{Float32,Cube}) at ./none:0",
      " [20] #mapslices#51(::Base.Iterators.Pairs{Union{},Union{},Tuple{},NamedTuple{(),Tuple{}}}, ::Function, ::Function, ::ESDL.CubeAPI.SubCubeV{Float32,Cube}, ::Tuple{String,String,String}) at /home/qe89hep/.julia/packages/ESDL/bKX8H/src/DAT/DAT.jl:210",
      " [21] mapslices(::Function, ::ESDL.CubeAPI.SubCubeV{Float32,Cube}, ::Tuple{String,String,String}) at /home/qe89hep/.julia/packages/ESDL/bKX8H/src/DAT/DAT.jl:209",
      " [22] top-level scope at In[6]:1"
     ]
    }
   ],
   "source": [
    "hasvalues = mapslices(i->any(!ismissing,i),d,(\"Lon\",\"Lat\",\"Var\"))"
   ]
  },
  {
   "cell_type": "code",
   "execution_count": 7,
   "metadata": {},
   "outputs": [
    {
     "ename": "UndefVarError",
     "evalue": "UndefVarError: hasvalues not defined",
     "output_type": "error",
     "traceback": [
      "UndefVarError: hasvalues not defined",
      "",
      "Stacktrace:",
      " [1] top-level scope at In[7]:1"
     ]
    }
   ],
   "source": [
    "inds = findall(!ismissing,hasvalues[:]);"
   ]
  },
  {
   "cell_type": "code",
   "execution_count": 32,
   "metadata": {},
   "outputs": [
    {
     "data": {
      "text/plain": [
       "Time                Axis with 109 Elements from 2015-11-18 to 2018-06-05"
      ]
     },
     "execution_count": 32,
     "metadata": {},
     "output_type": "execute_result"
    }
   ],
   "source": [
    "newtimeax = TimeAxis(d.timeAxis.values[ind])"
   ]
  },
  {
   "cell_type": "code",
   "execution_count": 33,
   "metadata": {},
   "outputs": [
    {
     "data": {
      "text/plain": [
       "copyfun (generic function with 1 method)"
      ]
     },
     "execution_count": 33,
     "metadata": {},
     "output_type": "execute_result"
    }
   ],
   "source": [
    "function copyfun(xout,xin,inds)\n",
    "    xout.=xin[inds]\n",
    "end"
   ]
  },
  {
   "cell_type": "markdown",
   "metadata": {},
   "source": [
    "### Remap to new time axis"
   ]
  },
  {
   "cell_type": "code",
   "execution_count": 35,
   "metadata": {},
   "outputs": [
    {
     "data": {
      "text/plain": [
       "Memory mapped cube with the following dimensions\n",
       "Time                Axis with 109 Elements from 2015-11-18 to 2018-06-05\n",
       "Lon                 Axis with 1008 Elements from -179.99991016847156 to -179.81898947017217\n",
       "Lat                 Axis with 1071 Elements from 89.99991016847154 to 89.80767069758738\n",
       "Variable            Axis with 2 elements: sentinel1_VH sentinel1_VV \n",
       "Total size: 1.1 GB\n"
      ]
     },
     "execution_count": 35,
     "metadata": {},
     "output_type": "execute_result"
    }
   ],
   "source": [
    "indims = InDims(\"Time\")\n",
    "outdims = OutDims(newtimeax)\n",
    "cubeshort = mapCube(copyfun,d,ind,indims=indims,outdims=outdims,max_cache=1e8)"
   ]
  },
  {
   "cell_type": "code",
   "execution_count": 57,
   "metadata": {},
   "outputs": [
    {
     "ename": "MethodError",
     "evalue": "MethodError: no method matching getCubeData(::ESDL.Cubes.MmapCube{Float32,4})\nClosest candidates are:\n  getCubeData(!Matched::ESDL.CubeAPI.UCube; variable, time, latitude, longitude, region) at /home/qe89hep/.julia/packages/ESDL/bKX8H/src/CubeAPI/CubeAPI.jl:468\n  getCubeData(!Matched::ESDL.CubeAPI.UCube, !Matched::Array{T<:AbstractString,1}, !Matched::Tuple{TimeType,TimeType}, !Matched::Tuple{Real,Real}, !Matched::Tuple{Real,Real}) where T<:AbstractString at /home/qe89hep/.julia/packages/ESDL/bKX8H/src/CubeAPI/CubeAPI.jl:625\n  getCubeData(!Matched::ESDL.CubeAPI.UCube, !Matched::Any, !Matched::Any, !Matched::Any, !Matched::Any) at /home/qe89hep/.julia/packages/ESDL/bKX8H/src/CubeAPI/CubeAPI.jl:517",
     "output_type": "error",
     "traceback": [
      "MethodError: no method matching getCubeData(::ESDL.Cubes.MmapCube{Float32,4})\nClosest candidates are:\n  getCubeData(!Matched::ESDL.CubeAPI.UCube; variable, time, latitude, longitude, region) at /home/qe89hep/.julia/packages/ESDL/bKX8H/src/CubeAPI/CubeAPI.jl:468\n  getCubeData(!Matched::ESDL.CubeAPI.UCube, !Matched::Array{T<:AbstractString,1}, !Matched::Tuple{TimeType,TimeType}, !Matched::Tuple{Real,Real}, !Matched::Tuple{Real,Real}) where T<:AbstractString at /home/qe89hep/.julia/packages/ESDL/bKX8H/src/CubeAPI/CubeAPI.jl:625\n  getCubeData(!Matched::ESDL.CubeAPI.UCube, !Matched::Any, !Matched::Any, !Matched::Any, !Matched::Any) at /home/qe89hep/.julia/packages/ESDL/bKX8H/src/CubeAPI/CubeAPI.jl:517",
      "",
      "Stacktrace:",
      " [1] top-level scope at In[57]:1"
     ]
    }
   ],
   "source": [
    "shortdata = getCubeData(cubeshort)"
   ]
  },
  {
   "cell_type": "code",
   "execution_count": 36,
   "metadata": {},
   "outputs": [
    {
     "data": {
      "text/plain": [
       "109×2 Array{Union{Missing, Float32},2}:\n",
       " 0.0450496  0.192162 \n",
       " 0.0306514  0.0636495\n",
       " 0.0386226  0.101702 \n",
       " 0.0434581  0.18507  \n",
       " 0.0363384  0.108583 \n",
       " 0.0198827  0.0842303\n",
       " 0.0294457  0.097366 \n",
       " 0.0172256  0.111951 \n",
       " 0.0263031  0.108248 \n",
       " 0.0244575  0.082157 \n",
       " 0.0424384  0.139837 \n",
       " 0.0252525  0.0802815\n",
       " 0.0369655  0.132269 \n",
       " ⋮                   \n",
       " 0.0298996  0.0825622\n",
       " 0.0329341  0.187466 \n",
       " 0.0516884  0.121712 \n",
       " 0.0481689  0.12604  \n",
       " 0.0359798  0.0961182\n",
       " 0.0428461  0.227843 \n",
       " 0.0419421  0.0731331\n",
       " 0.0397423  0.10912  \n",
       " 0.0535314  0.0767276\n",
       " 0.0408396  0.0778528\n",
       " 0.0402203  0.175066 \n",
       " 0.0378538  0.128366 "
      ]
     },
     "execution_count": 36,
     "metadata": {},
     "output_type": "execute_result"
    }
   ],
   "source": [
    "#Check a random time entry\n",
    "cubeshort[:,500,500,:]"
   ]
  },
  {
   "cell_type": "code",
   "execution_count": null,
   "metadata": {},
   "outputs": [],
   "source": []
  },
  {
   "cell_type": "markdown",
   "metadata": {},
   "source": [
    "### Compute MSC by aggregating per month\n",
    "\n",
    "- we first generate a month mask to now for each time step which month it belongs to and afterwards do the aggregation time series by time series"
   ]
  },
  {
   "cell_type": "code",
   "execution_count": 38,
   "metadata": {},
   "outputs": [
    {
     "data": {
      "text/plain": [
       "12-element Array{Int64,1}:\n",
       " 0\n",
       " 0\n",
       " 0\n",
       " 0\n",
       " 0\n",
       " 0\n",
       " 0\n",
       " 0\n",
       " 0\n",
       " 0\n",
       " 0\n",
       " 0"
      ]
     },
     "execution_count": 38,
     "metadata": {},
     "output_type": "execute_result"
    }
   ],
   "source": [
    "using Dates\n",
    "monthmask = month.(newtimeax.values);\n",
    "monthcount = zeros(Int,12) #preallocated buffer"
   ]
  },
  {
   "cell_type": "code",
   "execution_count": 39,
   "metadata": {},
   "outputs": [
    {
     "data": {
      "text/plain": [
       "aggmonth (generic function with 1 method)"
      ]
     },
     "execution_count": 39,
     "metadata": {},
     "output_type": "execute_result"
    }
   ],
   "source": [
    "function aggmonth(xout,xin,monthmask,monthcount)\n",
    "    fill!(monthcount,0)\n",
    "    fill!(xout,0.0)\n",
    "    # First aggregate\n",
    "    for (v,mm) in zip(xin,monthmask)\n",
    "        if !ismissing(v)\n",
    "            xout[mm] += v\n",
    "            monthcount[mm] += 1\n",
    "        end\n",
    "    end\n",
    "    # And divide by the number of obs if there are any\n",
    "    xout .= xout./monthcount\n",
    "    replace!(xout,NaN=>missing)\n",
    "end"
   ]
  },
  {
   "cell_type": "code",
   "execution_count": 40,
   "metadata": {},
   "outputs": [
    {
     "data": {
      "text/plain": [
       "Memory mapped cube with the following dimensions\n",
       "Month               Axis with 12 Elements from 1 to 12\n",
       "Lon                 Axis with 1008 Elements from -179.99991016847156 to -179.81898947017217\n",
       "Lat                 Axis with 1071 Elements from 89.99991016847154 to 89.80767069758738\n",
       "Variable            Axis with 2 elements: sentinel1_VH sentinel1_VV \n",
       "Total size: 123.55 MB\n"
      ]
     },
     "execution_count": 40,
     "metadata": {},
     "output_type": "execute_result"
    }
   ],
   "source": [
    "indims  = InDims(\"Time\")\n",
    "outdims = OutDims(RangeAxis(\"Month\",1:12))\n",
    "msc = mapCube(aggmonth,cubeshort,monthmask,monthcount,indims=indims,outdims=outdims,max_cache=1e8)"
   ]
  },
  {
   "cell_type": "code",
   "execution_count": 44,
   "metadata": {},
   "outputs": [],
   "source": [
    "using GR"
   ]
  },
  {
   "cell_type": "code",
   "execution_count": 48,
   "metadata": {},
   "outputs": [
    {
     "data": {
      "image/svg+xml": [
       "<?xml version=\"1.0\" encoding=\"utf-8\"?>\n",
       "<svg xmlns=\"http://www.w3.org/2000/svg\" xmlns:xlink=\"http://www.w3.org/1999/xlink\" width=\"614.5\" height=\"460.75\" viewBox=\"0 0 2458 1843\">\n",
       "<defs>\n",
       "  <clipPath id=\"clip1200\">\n",
       "    <rect x=\"0\" y=\"0\" width=\"2000\" height=\"2000\"/>\n",
       "  </clipPath>\n",
       "</defs>\n",
       "<defs>\n",
       "  <clipPath id=\"clip1201\">\n",
       "    <rect x=\"307\" y=\"138\" width=\"1967\" height=\"1475\"/>\n",
       "  </clipPath>\n",
       "</defs>\n",
       "<defs>\n",
       "  <clipPath id=\"clip1202\">\n",
       "    <rect x=\"0\" y=\"0\" width=\"2458\" height=\"1843\"/>\n",
       "  </clipPath>\n",
       "</defs>\n",
       "<polyline clip-path=\"url(#clip1202)\" style=\"stroke:#ededed; stroke-width:4.301; stroke-opacity:1; fill:none\" points=\"\n",
       "  307.25,1525.9 2273.65,1525.9 \n",
       "  \"/>\n",
       "<polyline clip-path=\"url(#clip1202)\" style=\"stroke:#ededed; stroke-width:4.301; stroke-opacity:1; fill:none\" points=\"\n",
       "  307.25,1439.17 2273.65,1439.17 \n",
       "  \"/>\n",
       "<polyline clip-path=\"url(#clip1202)\" style=\"stroke:#cccccc; stroke-width:4.301; stroke-opacity:1; fill:none\" points=\"\n",
       "  307.25,1352.44 2273.65,1352.44 \n",
       "  \"/>\n",
       "<polyline clip-path=\"url(#clip1202)\" style=\"stroke:#ededed; stroke-width:4.301; stroke-opacity:1; fill:none\" points=\"\n",
       "  307.25,1265.71 2273.65,1265.71 \n",
       "  \"/>\n",
       "<polyline clip-path=\"url(#clip1202)\" style=\"stroke:#ededed; stroke-width:4.301; stroke-opacity:1; fill:none\" points=\"\n",
       "  307.25,1178.98 2273.65,1178.98 \n",
       "  \"/>\n",
       "<polyline clip-path=\"url(#clip1202)\" style=\"stroke:#ededed; stroke-width:4.301; stroke-opacity:1; fill:none\" points=\"\n",
       "  307.25,1092.25 2273.65,1092.25 \n",
       "  \"/>\n",
       "<polyline clip-path=\"url(#clip1202)\" style=\"stroke:#ededed; stroke-width:4.301; stroke-opacity:1; fill:none\" points=\"\n",
       "  307.25,1005.52 2273.65,1005.52 \n",
       "  \"/>\n",
       "<polyline clip-path=\"url(#clip1202)\" style=\"stroke:#cccccc; stroke-width:4.301; stroke-opacity:1; fill:none\" points=\"\n",
       "  307.25,918.79 2273.65,918.79 \n",
       "  \"/>\n",
       "<polyline clip-path=\"url(#clip1202)\" style=\"stroke:#ededed; stroke-width:4.301; stroke-opacity:1; fill:none\" points=\"\n",
       "  307.25,832.06 2273.65,832.06 \n",
       "  \"/>\n",
       "<polyline clip-path=\"url(#clip1202)\" style=\"stroke:#ededed; stroke-width:4.301; stroke-opacity:1; fill:none\" points=\"\n",
       "  307.25,745.331 2273.65,745.331 \n",
       "  \"/>\n",
       "<polyline clip-path=\"url(#clip1202)\" style=\"stroke:#ededed; stroke-width:4.301; stroke-opacity:1; fill:none\" points=\"\n",
       "  307.25,658.601 2273.65,658.601 \n",
       "  \"/>\n",
       "<polyline clip-path=\"url(#clip1202)\" style=\"stroke:#ededed; stroke-width:4.301; stroke-opacity:1; fill:none\" points=\"\n",
       "  307.25,571.872 2273.65,571.872 \n",
       "  \"/>\n",
       "<polyline clip-path=\"url(#clip1202)\" style=\"stroke:#cccccc; stroke-width:4.301; stroke-opacity:1; fill:none\" points=\"\n",
       "  307.25,485.143 2273.65,485.143 \n",
       "  \"/>\n",
       "<polyline clip-path=\"url(#clip1202)\" style=\"stroke:#ededed; stroke-width:4.301; stroke-opacity:1; fill:none\" points=\"\n",
       "  307.25,398.413 2273.65,398.413 \n",
       "  \"/>\n",
       "<polyline clip-path=\"url(#clip1202)\" style=\"stroke:#ededed; stroke-width:4.301; stroke-opacity:1; fill:none\" points=\"\n",
       "  307.25,311.684 2273.65,311.684 \n",
       "  \"/>\n",
       "<polyline clip-path=\"url(#clip1202)\" style=\"stroke:#ededed; stroke-width:4.301; stroke-opacity:1; fill:none\" points=\"\n",
       "  307.25,224.954 2273.65,224.954 \n",
       "  \"/>\n",
       "<polyline clip-path=\"url(#clip1202)\" style=\"stroke:#ededed; stroke-width:4.301; stroke-opacity:1; fill:none\" points=\"\n",
       "  307.25,138.225 2273.65,138.225 \n",
       "  \"/>\n",
       "<polyline clip-path=\"url(#clip1202)\" style=\"stroke:#ededed; stroke-width:4.301; stroke-opacity:1; fill:none\" points=\"\n",
       "  486.014,1612.62 486.014,138.225 \n",
       "  \"/>\n",
       "<polyline clip-path=\"url(#clip1202)\" style=\"stroke:#ededed; stroke-width:4.301; stroke-opacity:1; fill:none\" points=\"\n",
       "  664.777,1612.62 664.777,138.225 \n",
       "  \"/>\n",
       "<polyline clip-path=\"url(#clip1202)\" style=\"stroke:#ededed; stroke-width:4.301; stroke-opacity:1; fill:none\" points=\"\n",
       "  843.541,1612.62 843.541,138.225 \n",
       "  \"/>\n",
       "<polyline clip-path=\"url(#clip1202)\" style=\"stroke:#cccccc; stroke-width:4.301; stroke-opacity:1; fill:none\" points=\"\n",
       "  1022.3,1612.62 1022.3,138.225 \n",
       "  \"/>\n",
       "<polyline clip-path=\"url(#clip1202)\" style=\"stroke:#ededed; stroke-width:4.301; stroke-opacity:1; fill:none\" points=\"\n",
       "  1201.07,1612.62 1201.07,138.225 \n",
       "  \"/>\n",
       "<polyline clip-path=\"url(#clip1202)\" style=\"stroke:#ededed; stroke-width:4.301; stroke-opacity:1; fill:none\" points=\"\n",
       "  1379.83,1612.62 1379.83,138.225 \n",
       "  \"/>\n",
       "<polyline clip-path=\"url(#clip1202)\" style=\"stroke:#ededed; stroke-width:4.301; stroke-opacity:1; fill:none\" points=\"\n",
       "  1558.6,1612.62 1558.6,138.225 \n",
       "  \"/>\n",
       "<polyline clip-path=\"url(#clip1202)\" style=\"stroke:#ededed; stroke-width:4.301; stroke-opacity:1; fill:none\" points=\"\n",
       "  1737.36,1612.62 1737.36,138.225 \n",
       "  \"/>\n",
       "<polyline clip-path=\"url(#clip1202)\" style=\"stroke:#cccccc; stroke-width:4.301; stroke-opacity:1; fill:none\" points=\"\n",
       "  1916.12,1612.62 1916.12,138.225 \n",
       "  \"/>\n",
       "<polyline clip-path=\"url(#clip1202)\" style=\"stroke:#ededed; stroke-width:4.301; stroke-opacity:1; fill:none\" points=\"\n",
       "  2094.89,1612.62 2094.89,138.225 \n",
       "  \"/>\n",
       "<polyline clip-path=\"url(#clip1202)\" style=\"stroke:#ededed; stroke-width:4.301; stroke-opacity:1; fill:none\" points=\"\n",
       "  2273.65,1612.62 2273.65,138.225 \n",
       "  \"/>\n",
       "<g clip-path=\"url(#clip1202)\">\n",
       "<text style=\"fill:#000000; fill-opacity:1; font-family:Arial,Helvetica Neue,Helvetica,sans-serif; font-size:60px; text-anchor:start;\" transform=\"rotate(0, 168.9, 1369.91)\" x=\"168.9\" y=\"1369.91\">0.05</text>\n",
       "</g>\n",
       "<g clip-path=\"url(#clip1202)\">\n",
       "<text style=\"fill:#000000; fill-opacity:1; font-family:Arial,Helvetica Neue,Helvetica,sans-serif; font-size:60px; text-anchor:start;\" transform=\"rotate(0, 168.9, 936.261)\" x=\"168.9\" y=\"936.261\">0.10</text>\n",
       "</g>\n",
       "<g clip-path=\"url(#clip1202)\">\n",
       "<text style=\"fill:#000000; fill-opacity:1; font-family:Arial,Helvetica Neue,Helvetica,sans-serif; font-size:60px; text-anchor:start;\" transform=\"rotate(0, 168.9, 502.614)\" x=\"168.9\" y=\"502.614\">0.15</text>\n",
       "</g>\n",
       "<polyline clip-path=\"url(#clip1202)\" style=\"stroke:#000000; stroke-width:4.301; stroke-opacity:1; fill:none\" points=\"\n",
       "  307.25,1612.62 307.25,1612.62 325.685,1612.62 307.25,1612.62 307.25,1525.9 325.685,1525.9 307.25,1525.9 307.25,1439.17 325.685,1439.17 307.25,1439.17 \n",
       "  307.25,1352.44 344.12,1352.44 307.25,1352.44 307.25,1265.71 325.685,1265.71 307.25,1265.71 307.25,1178.98 325.685,1178.98 307.25,1178.98 307.25,1092.25 \n",
       "  325.685,1092.25 307.25,1092.25 307.25,1005.52 325.685,1005.52 307.25,1005.52 307.25,918.79 344.12,918.79 307.25,918.79 307.25,832.06 325.685,832.06 \n",
       "  307.25,832.06 307.25,745.331 325.685,745.331 307.25,745.331 307.25,658.601 325.685,658.601 307.25,658.601 307.25,571.872 325.685,571.872 307.25,571.872 \n",
       "  307.25,485.143 344.12,485.143 307.25,485.143 307.25,398.413 325.685,398.413 307.25,398.413 307.25,311.684 325.685,311.684 307.25,311.684 307.25,224.954 \n",
       "  325.685,224.954 307.25,224.954 307.25,138.225 325.685,138.225 307.25,138.225 \n",
       "  \"/>\n",
       "<g clip-path=\"url(#clip1202)\">\n",
       "<text style=\"fill:#000000; fill-opacity:1; font-family:Arial,Helvetica Neue,Helvetica,sans-serif; font-size:60px; text-anchor:start;\" transform=\"rotate(0, 1005.17, 1685.9)\" x=\"1005.17\" y=\"1685.9\">5</text>\n",
       "</g>\n",
       "<g clip-path=\"url(#clip1202)\">\n",
       "<text style=\"fill:#000000; fill-opacity:1; font-family:Arial,Helvetica Neue,Helvetica,sans-serif; font-size:60px; text-anchor:start;\" transform=\"rotate(0, 1881.86, 1685.9)\" x=\"1881.86\" y=\"1685.9\">10</text>\n",
       "</g>\n",
       "<polyline clip-path=\"url(#clip1202)\" style=\"stroke:#000000; stroke-width:4.301; stroke-opacity:1; fill:none\" points=\"\n",
       "  307.25,1612.62 307.25,1612.62 307.25,1594.19 307.25,1612.62 486.014,1612.62 486.014,1594.19 486.014,1612.62 664.777,1612.62 664.777,1594.19 664.777,1612.62 \n",
       "  843.541,1612.62 843.541,1594.19 843.541,1612.62 1022.3,1612.62 1022.3,1575.76 1022.3,1612.62 1201.07,1612.62 1201.07,1594.19 1201.07,1612.62 1379.83,1612.62 \n",
       "  1379.83,1594.19 1379.83,1612.62 1558.6,1612.62 1558.6,1594.19 1558.6,1612.62 1737.36,1612.62 1737.36,1594.19 1737.36,1612.62 1916.12,1612.62 1916.12,1575.76 \n",
       "  1916.12,1612.62 2094.89,1612.62 2094.89,1594.19 2094.89,1612.62 2273.65,1612.62 2273.65,1594.19 2273.65,1612.62 \n",
       "  \"/>\n",
       "<polyline clip-path=\"url(#clip1202)\" style=\"stroke:#000000; stroke-width:4.301; stroke-opacity:1; fill:none\" points=\"\n",
       "  2273.65,1612.62 2273.65,1612.62 2255.22,1612.62 2273.65,1612.62 2273.65,1525.9 2255.22,1525.9 2273.65,1525.9 2273.65,1439.17 2255.22,1439.17 2273.65,1439.17 \n",
       "  2273.65,1352.44 2236.78,1352.44 2273.65,1352.44 2273.65,1265.71 2255.22,1265.71 2273.65,1265.71 2273.65,1178.98 2255.22,1178.98 2273.65,1178.98 2273.65,1092.25 \n",
       "  2255.22,1092.25 2273.65,1092.25 2273.65,1005.52 2255.22,1005.52 2273.65,1005.52 2273.65,918.79 2236.78,918.79 2273.65,918.79 2273.65,832.06 2255.22,832.06 \n",
       "  2273.65,832.06 2273.65,745.331 2255.22,745.331 2273.65,745.331 2273.65,658.601 2255.22,658.601 2273.65,658.601 2273.65,571.872 2255.22,571.872 2273.65,571.872 \n",
       "  2273.65,485.143 2236.78,485.143 2273.65,485.143 2273.65,398.413 2255.22,398.413 2273.65,398.413 2273.65,311.684 2255.22,311.684 2273.65,311.684 2273.65,224.954 \n",
       "  2255.22,224.954 2273.65,224.954 2273.65,138.225 2255.22,138.225 2273.65,138.225 \n",
       "  \"/>\n",
       "<polyline clip-path=\"url(#clip1202)\" style=\"stroke:#000000; stroke-width:4.301; stroke-opacity:1; fill:none\" points=\"\n",
       "  307.25,138.225 307.25,138.225 307.25,156.655 307.25,138.225 486.014,138.225 486.014,156.655 486.014,138.225 664.777,138.225 664.777,156.655 664.777,138.225 \n",
       "  843.541,138.225 843.541,156.655 843.541,138.225 1022.3,138.225 1022.3,175.085 1022.3,138.225 1201.07,138.225 1201.07,156.655 1201.07,138.225 1379.83,138.225 \n",
       "  1379.83,156.655 1379.83,138.225 1558.6,138.225 1558.6,156.655 1558.6,138.225 1737.36,138.225 1737.36,156.655 1737.36,138.225 1916.12,138.225 1916.12,175.085 \n",
       "  1916.12,138.225 2094.89,138.225 2094.89,156.655 2094.89,138.225 2273.65,138.225 2273.65,156.655 2273.65,138.225 \n",
       "  \"/>\n",
       "<polyline clip-path=\"url(#clip1201)\" style=\"stroke:#00528a; stroke-width:4.301; stroke-opacity:1; fill:none\" points=\"\n",
       "  307.25,1496.84 486.014,1523.18 664.777,1520.07 843.541,1441.65 1022.3,1441.29 1201.07,1415.47 1379.83,1471.81 1558.6,1320.6 1737.36,1380.9 1916.12,1383.5 \n",
       "  2094.89,1479.44 2273.65,1540.1 \n",
       "  \"/>\n",
       "<polyline clip-path=\"url(#clip1201)\" style=\"stroke:#ff6700; stroke-width:4.301; stroke-opacity:1; fill:none\" points=\"\n",
       "  307.25,871.445 486.014,870.29 664.777,887.25 843.541,756.46 1022.3,679.976 1201.07,551.865 1379.83,408.235 1558.6,287.159 1737.36,539.245 1916.12,204.661 \n",
       "  2094.89,556.008 2273.65,979.258 \n",
       "  \"/>\n",
       "</svg>\n"
      ],
      "text/plain": [
       "GR.SVG(UInt8[0x3c, 0x3f, 0x78, 0x6d, 0x6c, 0x20, 0x76, 0x65, 0x72, 0x73  …  0x2f, 0x3e, 0x0a, 0x3c, 0x2f, 0x73, 0x76, 0x67, 0x3e, 0x0a])"
      ]
     },
     "execution_count": 48,
     "metadata": {},
     "output_type": "execute_result"
    }
   ],
   "source": [
    "plot(replace(msc[:,500,500,:],missing=>NaN))"
   ]
  },
  {
   "cell_type": "code",
   "execution_count": 47,
   "metadata": {},
   "outputs": [
    {
     "data": {
      "image/svg+xml": [
       "<?xml version=\"1.0\" encoding=\"utf-8\"?>\n",
       "<svg xmlns=\"http://www.w3.org/2000/svg\" xmlns:xlink=\"http://www.w3.org/1999/xlink\" width=\"614.5\" height=\"460.75\" viewBox=\"0 0 2458 1843\">\n",
       "<defs>\n",
       "  <clipPath id=\"clip1100\">\n",
       "    <rect x=\"0\" y=\"0\" width=\"2000\" height=\"2000\"/>\n",
       "  </clipPath>\n",
       "</defs>\n",
       "<defs>\n",
       "  <clipPath id=\"clip1101\">\n",
       "    <rect x=\"307\" y=\"138\" width=\"1967\" height=\"1475\"/>\n",
       "  </clipPath>\n",
       "</defs>\n",
       "<defs>\n",
       "  <clipPath id=\"clip1102\">\n",
       "    <rect x=\"0\" y=\"0\" width=\"2458\" height=\"1843\"/>\n",
       "  </clipPath>\n",
       "</defs>\n",
       "<polyline clip-path=\"url(#clip1102)\" style=\"stroke:#ededed; stroke-width:4.301; stroke-opacity:1; fill:none\" points=\"\n",
       "  307.25,1555.92 2273.65,1555.92 \n",
       "  \"/>\n",
       "<polyline clip-path=\"url(#clip1102)\" style=\"stroke:#ededed; stroke-width:4.301; stroke-opacity:1; fill:none\" points=\"\n",
       "  307.25,1442.5 2273.65,1442.5 \n",
       "  \"/>\n",
       "<polyline clip-path=\"url(#clip1102)\" style=\"stroke:#ededed; stroke-width:4.301; stroke-opacity:1; fill:none\" points=\"\n",
       "  307.25,1329.09 2273.65,1329.09 \n",
       "  \"/>\n",
       "<polyline clip-path=\"url(#clip1102)\" style=\"stroke:#ededed; stroke-width:4.301; stroke-opacity:1; fill:none\" points=\"\n",
       "  307.25,1215.67 2273.65,1215.67 \n",
       "  \"/>\n",
       "<polyline clip-path=\"url(#clip1102)\" style=\"stroke:#cccccc; stroke-width:4.301; stroke-opacity:1; fill:none\" points=\"\n",
       "  307.25,1102.26 2273.65,1102.26 \n",
       "  \"/>\n",
       "<polyline clip-path=\"url(#clip1102)\" style=\"stroke:#ededed; stroke-width:4.301; stroke-opacity:1; fill:none\" points=\"\n",
       "  307.25,988.84 2273.65,988.84 \n",
       "  \"/>\n",
       "<polyline clip-path=\"url(#clip1102)\" style=\"stroke:#ededed; stroke-width:4.301; stroke-opacity:1; fill:none\" points=\"\n",
       "  307.25,875.425 2273.65,875.425 \n",
       "  \"/>\n",
       "<polyline clip-path=\"url(#clip1102)\" style=\"stroke:#ededed; stroke-width:4.301; stroke-opacity:1; fill:none\" points=\"\n",
       "  307.25,762.01 2273.65,762.01 \n",
       "  \"/>\n",
       "<polyline clip-path=\"url(#clip1102)\" style=\"stroke:#ededed; stroke-width:4.301; stroke-opacity:1; fill:none\" points=\"\n",
       "  307.25,648.594 2273.65,648.594 \n",
       "  \"/>\n",
       "<polyline clip-path=\"url(#clip1102)\" style=\"stroke:#cccccc; stroke-width:4.301; stroke-opacity:1; fill:none\" points=\"\n",
       "  307.25,535.179 2273.65,535.179 \n",
       "  \"/>\n",
       "<polyline clip-path=\"url(#clip1102)\" style=\"stroke:#ededed; stroke-width:4.301; stroke-opacity:1; fill:none\" points=\"\n",
       "  307.25,421.763 2273.65,421.763 \n",
       "  \"/>\n",
       "<polyline clip-path=\"url(#clip1102)\" style=\"stroke:#ededed; stroke-width:4.301; stroke-opacity:1; fill:none\" points=\"\n",
       "  307.25,308.348 2273.65,308.348 \n",
       "  \"/>\n",
       "<polyline clip-path=\"url(#clip1102)\" style=\"stroke:#ededed; stroke-width:4.301; stroke-opacity:1; fill:none\" points=\"\n",
       "  307.25,194.933 2273.65,194.933 \n",
       "  \"/>\n",
       "<polyline clip-path=\"url(#clip1102)\" style=\"stroke:#ededed; stroke-width:4.301; stroke-opacity:1; fill:none\" points=\"\n",
       "  486.014,1612.62 486.014,138.225 \n",
       "  \"/>\n",
       "<polyline clip-path=\"url(#clip1102)\" style=\"stroke:#ededed; stroke-width:4.301; stroke-opacity:1; fill:none\" points=\"\n",
       "  664.777,1612.62 664.777,138.225 \n",
       "  \"/>\n",
       "<polyline clip-path=\"url(#clip1102)\" style=\"stroke:#ededed; stroke-width:4.301; stroke-opacity:1; fill:none\" points=\"\n",
       "  843.541,1612.62 843.541,138.225 \n",
       "  \"/>\n",
       "<polyline clip-path=\"url(#clip1102)\" style=\"stroke:#ededed; stroke-width:4.301; stroke-opacity:1; fill:none\" points=\"\n",
       "  1022.3,1612.62 1022.3,138.225 \n",
       "  \"/>\n",
       "<polyline clip-path=\"url(#clip1102)\" style=\"stroke:#cccccc; stroke-width:4.301; stroke-opacity:1; fill:none\" points=\"\n",
       "  1201.07,1612.62 1201.07,138.225 \n",
       "  \"/>\n",
       "<polyline clip-path=\"url(#clip1102)\" style=\"stroke:#ededed; stroke-width:4.301; stroke-opacity:1; fill:none\" points=\"\n",
       "  1379.83,1612.62 1379.83,138.225 \n",
       "  \"/>\n",
       "<polyline clip-path=\"url(#clip1102)\" style=\"stroke:#ededed; stroke-width:4.301; stroke-opacity:1; fill:none\" points=\"\n",
       "  1558.6,1612.62 1558.6,138.225 \n",
       "  \"/>\n",
       "<polyline clip-path=\"url(#clip1102)\" style=\"stroke:#ededed; stroke-width:4.301; stroke-opacity:1; fill:none\" points=\"\n",
       "  1737.36,1612.62 1737.36,138.225 \n",
       "  \"/>\n",
       "<polyline clip-path=\"url(#clip1102)\" style=\"stroke:#ededed; stroke-width:4.301; stroke-opacity:1; fill:none\" points=\"\n",
       "  1916.12,1612.62 1916.12,138.225 \n",
       "  \"/>\n",
       "<polyline clip-path=\"url(#clip1102)\" style=\"stroke:#cccccc; stroke-width:4.301; stroke-opacity:1; fill:none\" points=\"\n",
       "  2094.89,1612.62 2094.89,138.225 \n",
       "  \"/>\n",
       "<polyline clip-path=\"url(#clip1102)\" style=\"stroke:#ededed; stroke-width:4.301; stroke-opacity:1; fill:none\" points=\"\n",
       "  2273.65,1612.62 2273.65,138.225 \n",
       "  \"/>\n",
       "<g clip-path=\"url(#clip1102)\">\n",
       "<text style=\"fill:#000000; fill-opacity:1; font-family:Arial,Helvetica Neue,Helvetica,sans-serif; font-size:60px; text-anchor:start;\" transform=\"rotate(0, 203.162, 1119.73)\" x=\"203.162\" y=\"1119.73\">0.1</text>\n",
       "</g>\n",
       "<g clip-path=\"url(#clip1102)\">\n",
       "<text style=\"fill:#000000; fill-opacity:1; font-family:Arial,Helvetica Neue,Helvetica,sans-serif; font-size:60px; text-anchor:start;\" transform=\"rotate(0, 203.162, 552.65)\" x=\"203.162\" y=\"552.65\">0.2</text>\n",
       "</g>\n",
       "<polyline clip-path=\"url(#clip1102)\" style=\"stroke:#000000; stroke-width:4.301; stroke-opacity:1; fill:none\" points=\"\n",
       "  307.25,1612.62 307.25,1555.92 325.685,1555.92 307.25,1555.92 307.25,1442.5 325.685,1442.5 307.25,1442.5 307.25,1329.09 325.685,1329.09 307.25,1329.09 \n",
       "  307.25,1215.67 325.685,1215.67 307.25,1215.67 307.25,1102.26 344.12,1102.26 307.25,1102.26 307.25,988.84 325.685,988.84 307.25,988.84 307.25,875.425 \n",
       "  325.685,875.425 307.25,875.425 307.25,762.01 325.685,762.01 307.25,762.01 307.25,648.594 325.685,648.594 307.25,648.594 307.25,535.179 344.12,535.179 \n",
       "  307.25,535.179 307.25,421.763 325.685,421.763 307.25,421.763 307.25,308.348 325.685,308.348 307.25,308.348 307.25,194.933 325.685,194.933 307.25,194.933 \n",
       "  307.25,138.225 \n",
       "  \"/>\n",
       "<g clip-path=\"url(#clip1102)\">\n",
       "<text style=\"fill:#000000; fill-opacity:1; font-family:Arial,Helvetica Neue,Helvetica,sans-serif; font-size:60px; text-anchor:start;\" transform=\"rotate(0, 290.119, 1685.9)\" x=\"290.119\" y=\"1685.9\">0</text>\n",
       "</g>\n",
       "<g clip-path=\"url(#clip1102)\">\n",
       "<text style=\"fill:#000000; fill-opacity:1; font-family:Arial,Helvetica Neue,Helvetica,sans-serif; font-size:60px; text-anchor:start;\" transform=\"rotate(0, 1166.81, 1685.9)\" x=\"1166.81\" y=\"1685.9\">50</text>\n",
       "</g>\n",
       "<g clip-path=\"url(#clip1102)\">\n",
       "<text style=\"fill:#000000; fill-opacity:1; font-family:Arial,Helvetica Neue,Helvetica,sans-serif; font-size:60px; text-anchor:start;\" transform=\"rotate(0, 2043.49, 1685.9)\" x=\"2043.49\" y=\"1685.9\">100</text>\n",
       "</g>\n",
       "<polyline clip-path=\"url(#clip1102)\" style=\"stroke:#000000; stroke-width:4.301; stroke-opacity:1; fill:none\" points=\"\n",
       "  307.25,1612.62 307.25,1612.62 307.25,1575.76 307.25,1612.62 486.014,1612.62 486.014,1594.19 486.014,1612.62 664.777,1612.62 664.777,1594.19 664.777,1612.62 \n",
       "  843.541,1612.62 843.541,1594.19 843.541,1612.62 1022.3,1612.62 1022.3,1594.19 1022.3,1612.62 1201.07,1612.62 1201.07,1575.76 1201.07,1612.62 1379.83,1612.62 \n",
       "  1379.83,1594.19 1379.83,1612.62 1558.6,1612.62 1558.6,1594.19 1558.6,1612.62 1737.36,1612.62 1737.36,1594.19 1737.36,1612.62 1916.12,1612.62 1916.12,1594.19 \n",
       "  1916.12,1612.62 2094.89,1612.62 2094.89,1575.76 2094.89,1612.62 2273.65,1612.62 2273.65,1594.19 2273.65,1612.62 \n",
       "  \"/>\n",
       "<polyline clip-path=\"url(#clip1102)\" style=\"stroke:#000000; stroke-width:4.301; stroke-opacity:1; fill:none\" points=\"\n",
       "  2273.65,1612.62 2273.65,1555.92 2255.22,1555.92 2273.65,1555.92 2273.65,1442.5 2255.22,1442.5 2273.65,1442.5 2273.65,1329.09 2255.22,1329.09 2273.65,1329.09 \n",
       "  2273.65,1215.67 2255.22,1215.67 2273.65,1215.67 2273.65,1102.26 2236.78,1102.26 2273.65,1102.26 2273.65,988.84 2255.22,988.84 2273.65,988.84 2273.65,875.425 \n",
       "  2255.22,875.425 2273.65,875.425 2273.65,762.01 2255.22,762.01 2273.65,762.01 2273.65,648.594 2255.22,648.594 2273.65,648.594 2273.65,535.179 2236.78,535.179 \n",
       "  2273.65,535.179 2273.65,421.763 2255.22,421.763 2273.65,421.763 2273.65,308.348 2255.22,308.348 2273.65,308.348 2273.65,194.933 2255.22,194.933 2273.65,194.933 \n",
       "  2273.65,138.225 \n",
       "  \"/>\n",
       "<polyline clip-path=\"url(#clip1102)\" style=\"stroke:#000000; stroke-width:4.301; stroke-opacity:1; fill:none\" points=\"\n",
       "  307.25,138.225 307.25,138.225 307.25,175.085 307.25,138.225 486.014,138.225 486.014,156.655 486.014,138.225 664.777,138.225 664.777,156.655 664.777,138.225 \n",
       "  843.541,138.225 843.541,156.655 843.541,138.225 1022.3,138.225 1022.3,156.655 1022.3,138.225 1201.07,138.225 1201.07,175.085 1201.07,138.225 1379.83,138.225 \n",
       "  1379.83,156.655 1379.83,138.225 1558.6,138.225 1558.6,156.655 1558.6,138.225 1737.36,138.225 1737.36,156.655 1737.36,138.225 1916.12,138.225 1916.12,156.655 \n",
       "  1916.12,138.225 2094.89,138.225 2094.89,175.085 2094.89,138.225 2273.65,138.225 2273.65,156.655 2273.65,138.225 \n",
       "  \"/>\n",
       "<polyline clip-path=\"url(#clip1101)\" style=\"stroke:#00528a; stroke-width:4.301; stroke-opacity:1; fill:none\" points=\"\n",
       "  325.126,1413.87 343.003,1495.52 360.879,1450.31 378.755,1422.89 396.632,1463.27 414.508,1556.58 432.385,1502.35 450.261,1571.65 468.137,1520.17 486.014,1530.64 \n",
       "  503.89,1428.67 521.766,1526.13 539.643,1459.71 557.519,1526.53 575.395,1488.49 593.272,1420.29 611.148,1427.62 629.025,1465.13 646.901,1494.85 664.777,1529.81 \n",
       "  682.654,1476.45 700.53,1432.24 718.406,1525.57 736.283,1398.84 754.159,1531.56 772.035,1204.94 789.912,1480.31 807.788,1520.6 825.665,1504.66 843.541,1349.82 \n",
       "  861.417,1360.06 879.294,1369.89 897.17,1335.48 915.046,1364.91 932.923,1441.35 950.799,1484.84 968.675,1329.41 986.552,1471.02 1004.43,1312.7 1022.3,1293.24 \n",
       "  1040.18,1470.84 1058.06,1323.23 1075.93,1349.64 1093.81,1438.82 1111.69,1476.84 1129.56,1445.92 1147.44,1534.29 1165.32,1347.33 1183.19,1519.34 1201.07,1375.21 \n",
       "  1218.94,1542.27 1236.82,1446.31 1254.7,1552.16 1272.57,1530.53 1290.45,1537.23 1308.33,1404.58 1326.2,1505.48 1344.08,1513.6 1361.96,1558.61 1379.83,1544.18 \n",
       "  1397.71,1511.98 1415.58,1499.38 1433.46,1493.49 1451.34,1478.53 1469.21,1527.91 1487.09,1469.19 1504.97,1488.25 1522.84,1411.59 1540.72,1502.7 1558.6,1508.26 \n",
       "  1576.47,1551.08 1594.35,1500.5 1612.22,1509.08 1630.1,1347.88 1647.98,1488.45 1665.85,1518.97 1683.73,1534.32 1701.61,1512.28 1719.48,1569.81 1737.36,1421.23 \n",
       "  1755.24,1353.79 1773.11,1595.85 1790.99,1352.59 1808.86,1509.19 1826.74,1440.31 1844.62,1461.35 1862.49,1518.87 1880.37,1547.65 1898.25,1447.93 1916.12,1560.82 \n",
       "  1934,1402.37 1951.88,1254.45 1969.75,1505.14 1987.63,1462.01 2005.5,1516.56 2023.38,1400.31 2041.26,1389.39 2059.13,1499.78 2077.01,1482.57 2094.89,1376.22 \n",
       "  2112.76,1396.18 2130.64,1465.3 2148.52,1426.36 2166.39,1431.49 2184.27,1443.96 2202.14,1365.77 2220.02,1437.74 2237.9,1441.25 2255.77,1454.67 \n",
       "  \"/>\n",
       "<polyline clip-path=\"url(#clip1101)\" style=\"stroke:#ff6700; stroke-width:4.301; stroke-opacity:1; fill:none\" points=\"\n",
       "  325.126,579.624 343.003,1308.39 360.879,1092.6 378.755,619.841 396.632,1053.58 414.508,1191.68 432.385,1117.19 450.261,1034.48 468.137,1055.48 486.014,1203.44 \n",
       "  503.89,876.349 521.766,1214.07 539.643,919.264 557.519,1043.94 575.395,861.173 593.272,999.707 611.148,760.607 629.025,1059.7 646.901,903.572 664.777,547.464 \n",
       "  682.654,1093.5 700.53,921.033 718.406,977.236 736.283,779.878 754.159,1045.65 772.035,694.632 789.912,780.982 807.788,544.357 825.665,1116.99 843.541,631.397 \n",
       "  861.417,625.333 879.294,753.201 897.17,794.011 915.046,619.202 932.923,869.009 950.799,983.144 968.675,601.956 986.552,1025.53 1004.43,631.493 1022.3,339.271 \n",
       "  1040.18,1218.29 1058.06,160.788 1075.93,309.725 1093.81,708.008 1111.69,477.883 1129.56,776.042 1147.44,776.89 1165.32,709.268 1183.19,990.129 1201.07,782.907 \n",
       "  1218.94,1134.27 1236.82,623.549 1254.7,1021.33 1272.57,1019.98 1290.45,1182.65 1308.33,940.18 1326.2,886.096 1344.08,1221.03 1361.96,1227.39 1379.83,1185.51 \n",
       "  1397.71,1238.96 1415.58,1106.95 1433.46,1156.64 1451.34,963.383 1469.21,1219.67 1487.09,1028.27 1504.97,1364.15 1522.84,944.577 1540.72,1075.79 1558.6,1230.97 \n",
       "  1576.47,1084.55 1594.35,926.874 1612.22,1163.08 1630.1,950.387 1647.98,1148.28 1665.85,1104.62 1683.73,1048.72 1701.61,1130.7 1719.48,1198.11 1737.36,955.877 \n",
       "  1755.24,1021.3 1773.11,1022.61 1790.99,838.689 1808.86,1340.58 1826.74,1262.56 1844.62,763.931 1862.49,1190.96 1880.37,1213.38 1898.25,989.347 1916.12,1089.84 \n",
       "  1934,1110.75 1951.88,803.445 1969.75,1201.89 1987.63,816.266 2005.5,1077.31 2023.38,995.817 2041.26,1094.63 2059.13,1201.14 2077.01,606.257 2094.89,979.13 \n",
       "  2112.76,954.589 2130.64,1124.27 2148.52,377.288 2166.39,1254.61 2184.27,1050.54 2202.14,1234.23 2220.02,1227.85 2237.9,676.575 2255.77,941.399 \n",
       "  \"/>\n",
       "</svg>\n"
      ],
      "text/plain": [
       "GR.SVG(UInt8[0x3c, 0x3f, 0x78, 0x6d, 0x6c, 0x20, 0x76, 0x65, 0x72, 0x73  …  0x2f, 0x3e, 0x0a, 0x3c, 0x2f, 0x73, 0x76, 0x67, 0x3e, 0x0a])"
      ]
     },
     "execution_count": 47,
     "metadata": {},
     "output_type": "execute_result"
    }
   ],
   "source": [
    "plot(replace(cubeshort[:,500,500,:], missing =>NaN))"
   ]
  },
  {
   "cell_type": "code",
   "execution_count": 51,
   "metadata": {},
   "outputs": [
    {
     "ename": "ErrorException",
     "evalue": "type MmapCube has no field timeAxis",
     "output_type": "error",
     "traceback": [
      "type MmapCube has no field timeAxis",
      "",
      "Stacktrace:",
      " [1] getproperty(::Any, ::Symbol) at ./sysimg.jl:18",
      " [2] top-level scope at In[51]:1"
     ]
    }
   ],
   "source": [
    "cubeshort.timeAxis"
   ]
  },
  {
   "cell_type": "code",
   "execution_count": null,
   "metadata": {},
   "outputs": [],
   "source": []
  }
 ],
 "metadata": {
  "@webio": {
   "lastCommId": "d9d6cceee29f448fa101d784bd2b8e13",
   "lastKernelId": "bf4f98ca-a54a-4651-a30e-32cb115fa3dd"
  },
  "kernelspec": {
   "display_name": "Julia 1.1.0",
   "language": "julia",
   "name": "julia-1.1"
  },
  "language_info": {
   "file_extension": ".jl",
   "mimetype": "application/julia",
   "name": "julia",
   "version": "1.1.0"
  }
 },
 "nbformat": 4,
 "nbformat_minor": 2
}
