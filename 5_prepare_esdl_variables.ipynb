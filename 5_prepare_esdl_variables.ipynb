{
 "cells": [
  {
   "cell_type": "markdown",
   "metadata": {},
   "source": [
    "install required packages"
   ]
  },
  {
   "cell_type": "code",
   "execution_count": 1,
   "metadata": {},
   "outputs": [],
   "source": [
    "using Pkg;\n",
    "#Pkg.add(\"GDAL\");"
   ]
  },
  {
   "cell_type": "markdown",
   "metadata": {},
   "source": [
    "loading packages"
   ]
  },
  {
   "cell_type": "code",
   "execution_count": 11,
   "metadata": {},
   "outputs": [],
   "source": [
    "using ESDL\n",
    "using DelimitedFiles\n",
    "using Statistics"
   ]
  },
  {
   "cell_type": "markdown",
   "metadata": {},
   "source": [
    "load the data cube"
   ]
  },
  {
   "cell_type": "code",
   "execution_count": 3,
   "metadata": {},
   "outputs": [
    {
     "data": {
      "text/plain": [
       "Collection of ZArray Cube with the following dimensions\n",
       "Lon                 Axis with 4320 Elements from -179.95833 to 179.9569\n",
       "Lat                 Axis with 2160 Elements from 89.958336 to -89.95761\n",
       "Time                Axis with 1702 Elements from 1980-01-05 to 2016-12-30\n",
       "Variable            Axis with 75 elements: soil_moisture leaf_area_index .. snow_sublimation Rg \n",
       "Total size: 5.42 TB\n"
      ]
     },
     "execution_count": 3,
     "metadata": {},
     "output_type": "execute_result"
    }
   ],
   "source": [
    "c = Cube(\"/home/jovyan/work/datacube/ESDCv2.0.0/esdc-8d-0.083deg-184x270x270-2.0.0.zarr/\")"
   ]
  },
  {
   "cell_type": "markdown",
   "metadata": {},
   "source": [
    "subset the cube concerning time and location but keep all variables"
   ]
  },
  {
   "cell_type": "code",
   "execution_count": 8,
   "metadata": {},
   "outputs": [
    {
     "data": {
      "text/plain": [
       "Collection of ZArray Cube with the following dimensions\n",
       "Lon                 Axis with 384 Elements from 73.04066 to 104.95719\n",
       "Lat                 Axis with 180 Elements from 39.958534 to 25.04193\n",
       "Time                Axis with 782 Elements from 2000-01-05 to 2016-12-30\n",
       "Variable            Axis with 75 elements: soil_moisture leaf_area_index .. snow_sublimation Rg \n",
       "Total size: 18.88 GB\n"
      ]
     },
     "execution_count": 8,
     "metadata": {},
     "output_type": "execute_result"
    }
   ],
   "source": [
    "d = subsetcube(c, Lon = (73, 105), \n",
    "                  Lat = (25, 40), \n",
    "                  time = (Date(2000,1,1), Date(2018,12,31))\n",
    "    )"
   ]
  },
  {
   "cell_type": "markdown",
   "metadata": {},
   "source": [
    "calculate mean value for all variables and the full time period considered"
   ]
  },
  {
   "cell_type": "code",
   "execution_count": 30,
   "metadata": {},
   "outputs": [
    {
     "name": "stderr",
     "output_type": "stream",
     "text": [
      "┌ Warning: There are still cache misses\n",
      "└ @ ESDL.DAT /home/jovyan/julia_depots/packages/ESDL/kpnFC/src/DAT/DAT.jl:531\n",
      "┌ Warning: There are compressed caches misses, you may want to use a different cube chunking\n",
      "└ @ ESDL.DAT /home/jovyan/julia_depots/packages/ESDL/kpnFC/src/DAT/DAT.jl:532\n"
     ]
    },
    {
     "ename": "TypeError",
     "evalue": "TypeError: non-boolean (Missing) used in boolean context",
     "output_type": "error",
     "traceback": [
      "TypeError: non-boolean (Missing) used in boolean context",
      "",
      "Stacktrace:",
      " [1] mapreduce_impl(::typeof(identity), ::typeof(max), ::Array{Union{Missing, Float32},1}, ::Int64, ::Int64) at ./reduce.jl:462",
      " [2] _mapreduce(::typeof(identity), ::typeof(max), ::IndexLinear, ::Array{Union{Missing, Float32},1}) at ./reduce.jl:320",
      " [3] _mapreduce_dim at ./reducedim.jl:308 [inlined]",
      " [4] #mapreduce#548 at ./reducedim.jl:304 [inlined]",
      " [5] mapreduce at ./reducedim.jl:304 [inlined]",
      " [6] _maximum at ./reducedim.jl:653 [inlined]",
      " [7] _maximum at ./reducedim.jl:652 [inlined]",
      " [8] #maximum#554 at ./reducedim.jl:648 [inlined]",
      " [9] maximum at ./reducedim.jl:648 [inlined]",
      " [10] macro expansion at /home/jovyan/julia_depots/packages/ESDL/kpnFC/src/DAT/DAT.jl:612 [inlined]",
      " [11] innerLoop(::typeof(maximum), ::Tuple{UnitRange{Int64},UnitRange{Int64},UnitRange{Int64}}, ::Tuple{Array{Union{Missing, Float32},4}}, ::Tuple{Array{Union{Missing, Float32},3}}, ::Tuple{Tuple{ESDL.DAT.AllMissing}}, ::ESDL.DAT.InnerObj{(1,),(0,),((1, 2, 3), (1, 2, 3)),false,(),false}, ::Tuple{Array{Union{Missing, Float32},1}}, ::Tuple{Array{Union{Missing, Float32},0}}, ::Tuple{RangeAxis{Float32,:Lon,StepRangeLen{Float32,Float64,Float64}},RangeAxis{Float32,:Lat,StepRangeLen{Float32,Float64,Float64}},CategoricalAxis{String,:Variable,Array{String,1}}}, ::Tuple{}, ::Base.Iterators.Pairs{Union{},Union{},Tuple{},NamedTuple{(),Tuple{}}}) at /home/jovyan/julia_depots/packages/ESDL/kpnFC/src/DAT/DAT.jl:561",
      " [12] runLoopArgs(::ESDL.DAT.DATConfig{1,1}, ::Tuple{Tuple{Array{Union{Missing, Float32},4}},Tuple{Array{Union{Missing, Float32},3}},Tuple{Tuple{ESDL.DAT.AllMissing}},ESDL.DAT.InnerObj{(1,),(0,),((1, 2, 3), (1, 2, 3)),false,(),false},Tuple{Array{Union{Missing, Float32},1}},Tuple{Array{Union{Missing, Float32},0}},Tuple{RangeAxis{Float32,:Lon,StepRangeLen{Float32,Float64,Float64}},RangeAxis{Float32,:Lat,StepRangeLen{Float32,Float64,Float64}},CategoricalAxis{String,:Variable,Array{String,1}}},Tuple{},Base.Iterators.Pairs{Union{},Union{},Tuple{},NamedTuple{(),Tuple{}}}}, ::Base.Iterators.ProductIterator{Tuple{Array{UnitRange{Int64},1},Array{UnitRange{Int64},1},Array{UnitRange{Int64},1}}}, ::Bool) at /home/jovyan/julia_depots/packages/ESDL/kpnFC/src/DAT/DAT.jl:343",
      " [13] runLoop(::ESDL.DAT.DATConfig{1,1}, ::Base.Iterators.ProductIterator{Tuple{Array{UnitRange{Int64},1},Array{UnitRange{Int64},1},Array{UnitRange{Int64},1}}}, ::Bool) at /home/jovyan/julia_depots/packages/ESDL/kpnFC/src/DAT/DAT.jl:336",
      " [14] runLoop(::ESDL.DAT.DATConfig{1,1}, ::Bool) at /home/jovyan/julia_depots/packages/ESDL/kpnFC/src/DAT/DAT.jl:310",
      " [15] #mapCube#36(::Nothing, ::InDims, ::OutDims, ::Bool, ::String, ::Bool, ::Bool, ::Bool, ::Bool, ::Base.Iterators.Pairs{Union{},Union{},Tuple{},NamedTuple{(),Tuple{}}}, ::typeof(mapCube), ::typeof(maximum), ::Tuple{ESDL.Cubes.ConcatCube{Union{Missing, Float32},4}}) at /home/jovyan/julia_depots/packages/ESDL/kpnFC/src/DAT/DAT.jl:244",
      " [16] (::getfield(ESDL.DAT, Symbol(\"#kw##mapCube\")))(::NamedTuple{(:indims, :outdims, :inplace),Tuple{InDims,OutDims,Bool}}, ::typeof(mapCube), ::Function, ::Tuple{ESDL.Cubes.ConcatCube{Union{Missing, Float32},4}}) at ./none:0",
      " [17] #mapCube#34(::Base.Iterators.Pairs{Symbol,Any,Tuple{Symbol,Symbol,Symbol},NamedTuple{(:indims, :outdims, :inplace),Tuple{InDims,OutDims,Bool}}}, ::Function, ::Function, ::ESDL.Cubes.ConcatCube{Union{Missing, Float32},4}) at /home/jovyan/julia_depots/packages/ESDL/kpnFC/src/DAT/DAT.jl:182",
      " [18] (::getfield(ESDL.DAT, Symbol(\"#kw##mapCube\")))(::NamedTuple{(:indims, :outdims, :inplace),Tuple{InDims,OutDims,Bool}}, ::typeof(mapCube), ::Function, ::ESDL.Cubes.ConcatCube{Union{Missing, Float32},4}) at ./none:0",
      " [19] #mapslices#35(::String, ::Base.Iterators.Pairs{Union{},Union{},Tuple{},NamedTuple{(),Tuple{}}}, ::Function, ::Function, ::ESDL.Cubes.ConcatCube{Union{Missing, Float32},4}) at /home/jovyan/julia_depots/packages/ESDL/kpnFC/src/DAT/DAT.jl:187",
      " [20] (::getfield(Base, Symbol(\"#kw##mapslices\")))(::NamedTuple{(:dims,),Tuple{String}}, ::typeof(mapslices), ::Function, ::ESDL.Cubes.ConcatCube{Union{Missing, Float32},4}) at ./none:0",
      " [21] top-level scope at In[30]:1"
     ]
    }
   ],
   "source": [
    "d2 = mapslices(maximum, d, dims=(\"Time\"))"
   ]
  },
  {
   "cell_type": "markdown",
   "metadata": {},
   "source": [
    "check access for individual variables and check which variables have missing data"
   ]
  },
  {
   "cell_type": "code",
   "execution_count": 26,
   "metadata": {},
   "outputs": [
    {
     "data": {
      "text/plain": [
       "384×180×10 Array{Union{Missing, Float32},3}:\n",
       "[:, :, 1] =\n",
       " missing  missing  missing  missing  …  missing  missing  missing  missing\n",
       " missing  missing  missing  missing     missing  missing  missing  missing\n",
       " missing  missing  missing  missing     missing  missing  missing  missing\n",
       " missing  missing  missing  missing     missing  missing  missing  missing\n",
       " missing  missing  missing  missing     missing  missing  missing  missing\n",
       " missing  missing  missing  missing  …  missing  missing  missing  missing\n",
       " missing  missing  missing  missing     missing  missing  missing  missing\n",
       " missing  missing  missing  missing     missing  missing  missing  missing\n",
       " missing  missing  missing  missing     missing  missing  missing  missing\n",
       " missing  missing  missing  missing     missing  missing  missing  missing\n",
       " missing  missing  missing  missing  …  missing  missing  missing  missing\n",
       " missing  missing  missing  missing     missing  missing  missing  missing\n",
       " missing  missing  missing  missing     missing  missing  missing  missing\n",
       " ⋮                                   ⋱                                    \n",
       " missing  missing  missing  missing     missing  missing  missing  missing\n",
       " missing  missing  missing  missing     missing  missing  missing  missing\n",
       " missing  missing  missing  missing     missing  missing  missing  missing\n",
       " missing  missing  missing  missing  …  missing  missing  missing  missing\n",
       " missing  missing  missing  missing     missing  missing  missing  missing\n",
       " missing  missing  missing  missing     missing  missing  missing  missing\n",
       " missing  missing  missing  missing     missing  missing  missing  missing\n",
       " missing  missing  missing  missing     missing  missing  missing  missing\n",
       " missing  missing  missing  missing  …  missing  missing  missing  missing\n",
       " missing  missing  missing  missing     missing  missing  missing  missing\n",
       " missing  missing  missing  missing     missing  missing  missing  missing\n",
       " missing  missing  missing  missing     missing  missing  missing  missing\n",
       "\n",
       "[:, :, 2] =\n",
       " missing  missing  missing  missing  …  missing  missing  missing  missing\n",
       " missing  missing  missing  missing     missing  missing  missing  missing\n",
       " missing  missing  missing  missing     missing  missing  missing  missing\n",
       " missing  missing  missing  missing     missing  missing  missing  missing\n",
       " missing  missing  missing  missing     missing  missing  missing  missing\n",
       " missing  missing  missing  missing  …  missing  missing  missing  missing\n",
       " missing  missing  missing  missing     missing  missing  missing  missing\n",
       " missing  missing  missing  missing     missing  missing  missing  missing\n",
       " missing  missing  missing  missing     missing  missing  missing  missing\n",
       " missing  missing  missing  missing     missing  missing  missing  missing\n",
       " missing  missing  missing  missing  …  missing  missing  missing  missing\n",
       " missing  missing  missing  missing     missing  missing  missing  missing\n",
       " missing  missing  missing  missing     missing  missing  missing  missing\n",
       " ⋮                                   ⋱                                    \n",
       " missing  missing  missing  missing     missing  missing  missing  missing\n",
       " missing  missing  missing  missing     missing  missing  missing  missing\n",
       " missing  missing  missing  missing     missing  missing  missing  missing\n",
       " missing  missing  missing  missing  …  missing  missing  missing  missing\n",
       " missing  missing  missing  missing     missing  missing  missing  missing\n",
       " missing  missing  missing  missing     missing  missing  missing  missing\n",
       " missing  missing  missing  missing     missing  missing  missing  missing\n",
       " missing  missing  missing  missing     missing  missing  missing  missing\n",
       " missing  missing  missing  missing  …  missing  missing  missing  missing\n",
       " missing  missing  missing  missing     missing  missing  missing  missing\n",
       " missing  missing  missing  missing     missing  missing  missing  missing\n",
       " missing  missing  missing  missing     missing  missing  missing  missing\n",
       "\n",
       "[:, :, 3] =\n",
       " 0.247363  0.339469  0.382773   missing  …  0.166838  0.167224  0.16025 \n",
       " 0.293179  0.345415  0.316582   missing     0.164205  0.162831  0.157893\n",
       " 0.376897  0.360072  0.302728   missing     0.164661  0.161962  0.149953\n",
       " 0.305827  0.329939  0.345296   missing     0.161505  0.149781  0.138877\n",
       " 0.2558    0.315312  0.325453   missing     0.155272  0.137671  0.128017\n",
       " 0.254326  0.301479  0.338106   missing  …  0.146527  0.12728   0.129939\n",
       " 0.307448  0.382234  0.372989   missing     0.131331  0.125475  0.133331\n",
       " 0.375022  0.442953   missing   missing     0.127818  0.13303   0.138433\n",
       "  missing   missing   missing   missing     0.133928  0.140276  0.140599\n",
       "  missing   missing   missing  0.28403      0.148355  0.149816  0.146167\n",
       "  missing   missing   missing  0.261479  …  0.152999  0.154826  0.151945\n",
       "  missing  0.288663  0.250783  0.239941     0.154632  0.153694  0.153905\n",
       " 0.293288  0.254055  0.218603  0.219105     0.156047  0.154063  0.154672\n",
       " ⋮                                       ⋱                              \n",
       " 0.249752  0.261346  0.261612  0.251104     0.111969  0.118677  0.118862\n",
       " 0.245957  0.252328  0.255046  0.255705     0.111553  0.114541  0.117179\n",
       " 0.251916  0.247643  0.246275  0.24817      0.106148  0.111203  0.113907\n",
       " 0.257725  0.261981  0.254076  0.245075  …  0.106718  0.109425  0.108524\n",
       " 0.259375  0.270338  0.267697  0.258821     0.111316  0.108647  0.106029\n",
       " 0.266274  0.272999  0.272378  0.269172     0.112427  0.110964  0.106711\n",
       " 0.262485  0.270766  0.262585  0.271388     0.111976  0.110783  0.105842\n",
       " 0.252753  0.260152  0.255228  0.272801     0.111212  0.111041  0.108342\n",
       " 0.24592   0.251647  0.250627  0.268052  …  0.111508  0.109548  0.10794 \n",
       " 0.243927  0.247351  0.245598  0.264577     0.106885  0.108636  0.108127\n",
       " 0.238648  0.243347  0.243738  0.259939     0.109403  0.111683  0.105908\n",
       " 0.234028  0.232929  0.240053  0.26002      0.111045  0.110647  0.100031\n",
       "\n",
       "[:, :, 4] =\n",
       " missing  missing  missing  missing  …  missing  missing  missing  missing\n",
       " missing  missing  missing  missing     missing  missing  missing  missing\n",
       " missing  missing  missing  missing     missing  missing  missing  missing\n",
       " missing  missing  missing  missing     missing  missing  missing  missing\n",
       " missing  missing  missing  missing     missing  missing  missing  missing\n",
       " missing  missing  missing  missing  …  missing  missing  missing  missing\n",
       " missing  missing  missing  missing     missing  missing  missing  missing\n",
       " missing  missing  missing  missing     missing  missing  missing  missing\n",
       " missing  missing  missing  missing     missing  missing  missing  missing\n",
       " missing  missing  missing  missing     missing  missing  missing  missing\n",
       " missing  missing  missing  missing  …  missing  missing  missing  missing\n",
       " missing  missing  missing  missing     missing  missing  missing  missing\n",
       " missing  missing  missing  missing     missing  missing  missing  missing\n",
       " ⋮                                   ⋱                                    \n",
       " missing  missing  missing  missing     missing  missing  missing  missing\n",
       " missing  missing  missing  missing     missing  missing  missing  missing\n",
       " missing  missing  missing  missing     missing  missing  missing  missing\n",
       " missing  missing  missing  missing  …  missing  missing  missing  missing\n",
       " missing  missing  missing  missing     missing  missing  missing  missing\n",
       " missing  missing  missing  missing     missing  missing  missing  missing\n",
       " missing  missing  missing  missing     missing  missing  missing  missing\n",
       " missing  missing  missing  missing     missing  missing  missing  missing\n",
       " missing  missing  missing  missing  …  missing  missing  missing  missing\n",
       " missing  missing  missing  missing     missing  missing  missing  missing\n",
       " missing  missing  missing  missing     missing  missing  missing  missing\n",
       " missing  missing  missing  missing     missing  missing  missing  missing\n",
       "\n",
       "[:, :, 5] =\n",
       " missing  missing  missing  missing  …  missing  missing  missing  missing\n",
       " missing  missing  missing  missing     missing  missing  missing  missing\n",
       " missing  missing  missing  missing     missing  missing  missing  missing\n",
       " missing  missing  missing  missing     missing  missing  missing  missing\n",
       " missing  missing  missing  missing     missing  missing  missing  missing\n",
       " missing  missing  missing  missing  …  missing  missing  missing  missing\n",
       " missing  missing  missing  missing     missing  missing  missing  missing\n",
       " missing  missing  missing  missing     missing  missing  missing  missing\n",
       " missing  missing  missing  missing     missing  missing  missing  missing\n",
       " missing  missing  missing  missing     missing  missing  missing  missing\n",
       " missing  missing  missing  missing  …  missing  missing  missing  missing\n",
       " missing  missing  missing  missing     missing  missing  missing  missing\n",
       " missing  missing  missing  missing     missing  missing  missing  missing\n",
       " ⋮                                   ⋱                                    \n",
       " missing  missing  missing  missing     missing  missing  missing  missing\n",
       " missing  missing  missing  missing     missing  missing  missing  missing\n",
       " missing  missing  missing  missing     missing  missing  missing  missing\n",
       " missing  missing  missing  missing  …  missing  missing  missing  missing\n",
       " missing  missing  missing  missing     missing  missing  missing  missing\n",
       " missing  missing  missing  missing     missing  missing  missing  missing\n",
       " missing  missing  missing  missing     missing  missing  missing  missing\n",
       " missing  missing  missing  missing     missing  missing  missing  missing\n",
       " missing  missing  missing  missing  …  missing  missing  missing  missing\n",
       " missing  missing  missing  missing     missing  missing  missing  missing\n",
       " missing  missing  missing  missing     missing  missing  missing  missing\n",
       " missing  missing  missing  missing     missing  missing  missing  missing\n",
       "\n",
       "[:, :, 6] =\n",
       " missing  missing  missing  missing  …  missing  missing  missing  missing\n",
       " missing  missing  missing  missing     missing  missing  missing  missing\n",
       " missing  missing  missing  missing     missing  missing  missing  missing\n",
       " missing  missing  missing  missing     missing  missing  missing  missing\n",
       " missing  missing  missing  missing     missing  missing  missing  missing\n",
       " missing  missing  missing  missing  …  missing  missing  missing  missing\n",
       " missing  missing  missing  missing     missing  missing  missing  missing\n",
       " missing  missing  missing  missing     missing  missing  missing  missing\n",
       " missing  missing  missing  missing     missing  missing  missing  missing\n",
       " missing  missing  missing  missing     missing  missing  missing  missing\n",
       " missing  missing  missing  missing  …  missing  missing  missing  missing\n",
       " missing  missing  missing  missing     missing  missing  missing  missing\n",
       " missing  missing  missing  missing     missing  missing  missing  missing\n",
       " ⋮                                   ⋱                                    \n",
       " missing  missing  missing  missing     missing  missing  missing  missing\n",
       " missing  missing  missing  missing     missing  missing  missing  missing\n",
       " missing  missing  missing  missing     missing  missing  missing  missing\n",
       " missing  missing  missing  missing  …  missing  missing  missing  missing\n",
       " missing  missing  missing  missing     missing  missing  missing  missing\n",
       " missing  missing  missing  missing     missing  missing  missing  missing\n",
       " missing  missing  missing  missing     missing  missing  missing  missing\n",
       " missing  missing  missing  missing     missing  missing  missing  missing\n",
       " missing  missing  missing  missing  …  missing  missing  missing  missing\n",
       " missing  missing  missing  missing     missing  missing  missing  missing\n",
       " missing  missing  missing  missing     missing  missing  missing  missing\n",
       " missing  missing  missing  missing     missing  missing  missing  missing\n",
       "\n",
       "[:, :, 7] =\n",
       " missing  missing  missing  missing  …  missing  missing  missing  missing\n",
       " missing  missing  missing  missing     missing  missing  missing  missing\n",
       " missing  missing  missing  missing     missing  missing  missing  missing\n",
       " missing  missing  missing  missing     missing  missing  missing  missing\n",
       " missing  missing  missing  missing     missing  missing  missing  missing\n",
       " missing  missing  missing  missing  …  missing  missing  missing  missing\n",
       " missing  missing  missing  missing     missing  missing  missing  missing\n",
       " missing  missing  missing  missing     missing  missing  missing  missing\n",
       " missing  missing  missing  missing     missing  missing  missing  missing\n",
       " missing  missing  missing  missing     missing  missing  missing  missing\n",
       " missing  missing  missing  missing  …  missing  missing  missing  missing\n",
       " missing  missing  missing  missing     missing  missing  missing  missing\n",
       " missing  missing  missing  missing     missing  missing  missing  missing\n",
       " ⋮                                   ⋱                                    \n",
       " missing  missing  missing  missing     missing  missing  missing  missing\n",
       " missing  missing  missing  missing     missing  missing  missing  missing\n",
       " missing  missing  missing  missing     missing  missing  missing  missing\n",
       " missing  missing  missing  missing  …  missing  missing  missing  missing\n",
       " missing  missing  missing  missing     missing  missing  missing  missing\n",
       " missing  missing  missing  missing     missing  missing  missing  missing\n",
       " missing  missing  missing  missing     missing  missing  missing  missing\n",
       " missing  missing  missing  missing     missing  missing  missing  missing\n",
       " missing  missing  missing  missing  …  missing  missing  missing  missing\n",
       " missing  missing  missing  missing     missing  missing  missing  missing\n",
       " missing  missing  missing  missing     missing  missing  missing  missing\n",
       " missing  missing  missing  missing     missing  missing  missing  missing\n",
       "\n",
       "[:, :, 8] =\n",
       " missing  missing  missing  missing  …  missing  missing  missing  missing\n",
       " missing  missing  missing  missing     missing  missing  missing  missing\n",
       " missing  missing  missing  missing     missing  missing  missing  missing\n",
       " missing  missing  missing  missing     missing  missing  missing  missing\n",
       " missing  missing  missing  missing     missing  missing  missing  missing\n",
       " missing  missing  missing  missing  …  missing  missing  missing  missing\n",
       " missing  missing  missing  missing     missing  missing  missing  missing\n",
       " missing  missing  missing  missing     missing  missing  missing  missing\n",
       " missing  missing  missing  missing     missing  missing  missing  missing\n",
       " missing  missing  missing  missing     missing  missing  missing  missing\n",
       " missing  missing  missing  missing  …  missing  missing  missing  missing\n",
       " missing  missing  missing  missing     missing  missing  missing  missing\n",
       " missing  missing  missing  missing     missing  missing  missing  missing\n",
       " ⋮                                   ⋱                                    \n",
       " missing  missing  missing  missing     missing  missing  missing  missing\n",
       " missing  missing  missing  missing     missing  missing  missing  missing\n",
       " missing  missing  missing  missing     missing  missing  missing  missing\n",
       " missing  missing  missing  missing  …  missing  missing  missing  missing\n",
       " missing  missing  missing  missing     missing  missing  missing  missing\n",
       " missing  missing  missing  missing     missing  missing  missing  missing\n",
       " missing  missing  missing  missing     missing  missing  missing  missing\n",
       " missing  missing  missing  missing     missing  missing  missing  missing\n",
       " missing  missing  missing  missing  …  missing  missing  missing  missing\n",
       " missing  missing  missing  missing     missing  missing  missing  missing\n",
       " missing  missing  missing  missing     missing  missing  missing  missing\n",
       " missing  missing  missing  missing     missing  missing  missing  missing\n",
       "\n",
       "[:, :, 9] =\n",
       " missing  missing  missing  missing  …  missing  missing  missing  missing\n",
       " missing  missing  missing  missing     missing  missing  missing  missing\n",
       " missing  missing  missing  missing     missing  missing  missing  missing\n",
       " missing  missing  missing  missing     missing  missing  missing  missing\n",
       " missing  missing  missing  missing     missing  missing  missing  missing\n",
       " missing  missing  missing  missing  …  missing  missing  missing  missing\n",
       " missing  missing  missing  missing     missing  missing  missing  missing\n",
       " missing  missing  missing  missing     missing  missing  missing  missing\n",
       " missing  missing  missing  missing     missing  missing  missing  missing\n",
       " missing  missing  missing  missing     missing  missing  missing  missing\n",
       " missing  missing  missing  missing  …  missing  missing  missing  missing\n",
       " missing  missing  missing  missing     missing  missing  missing  missing\n",
       " missing  missing  missing  missing     missing  missing  missing  missing\n",
       " ⋮                                   ⋱                                    \n",
       " missing  missing  missing  missing     missing  missing  missing  missing\n",
       " missing  missing  missing  missing     missing  missing  missing  missing\n",
       " missing  missing  missing  missing     missing  missing  missing  missing\n",
       " missing  missing  missing  missing  …  missing  missing  missing  missing\n",
       " missing  missing  missing  missing     missing  missing  missing  missing\n",
       " missing  missing  missing  missing     missing  missing  missing  missing\n",
       " missing  missing  missing  missing     missing  missing  missing  missing\n",
       " missing  missing  missing  missing     missing  missing  missing  missing\n",
       " missing  missing  missing  missing  …  missing  missing  missing  missing\n",
       " missing  missing  missing  missing     missing  missing  missing  missing\n",
       " missing  missing  missing  missing     missing  missing  missing  missing\n",
       " missing  missing  missing  missing     missing  missing  missing  missing\n",
       "\n",
       "[:, :, 10] =\n",
       " 278.459  278.459  278.459  277.299  …  307.539  307.539  307.539  306.699\n",
       " 278.459  278.459  278.459  277.299     307.539  307.539  307.539  306.699\n",
       " 278.459  278.459  278.459  277.299     307.539  307.539  307.539  306.699\n",
       " 279.341  279.341  279.341  277.994     307.162  307.162  307.162  305.657\n",
       " 279.341  279.341  279.341  277.994     307.162  307.162  307.162  305.657\n",
       " 279.341  279.341  279.341  277.994  …  307.162  307.162  307.162  305.657\n",
       " 278.86   278.86   278.86   277.548     305.941  305.941  305.941  304.366\n",
       " 278.86   278.86   278.86   277.548     305.941  305.941  305.941  304.366\n",
       " 278.86   278.86   278.86   277.548     305.941  305.941  305.941  304.366\n",
       " 275.706  275.706  275.706  277.005     305.454  305.454  305.454  305.236\n",
       " 275.706  275.706  275.706  277.005  …  305.454  305.454  305.454  305.236\n",
       " 275.706  275.706  275.706  277.005     305.454  305.454  305.454  305.236\n",
       " 275.601  275.601  275.601  278.521     305.883  305.883  305.883  306.065\n",
       "   ⋮                                 ⋱                                    \n",
       " 291.477  291.477  291.477  292.884     296.097  296.097  296.097  296.567\n",
       " 291.477  291.477  291.477  292.884     296.097  296.097  296.097  296.567\n",
       " 291.477  291.477  291.477  292.884     296.097  296.097  296.097  296.567\n",
       " 291.518  291.518  291.518  292.644  …  296.561  296.561  296.561  297.661\n",
       " 291.518  291.518  291.518  292.644     296.561  296.561  296.561  297.661\n",
       " 291.518  291.518  291.518  292.644     296.561  296.561  296.561  297.661\n",
       " 291.388  291.388  291.388  292.263     297.523  297.523  297.523  298.852\n",
       " 291.388  291.388  291.388  292.263     297.523  297.523  297.523  298.852\n",
       " 291.388  291.388  291.388  292.263  …  297.523  297.523  297.523  298.852\n",
       " 291.184  291.184  291.184  291.936     298.449  298.449  298.449  299.656\n",
       " 291.184  291.184  291.184  291.936     298.449  298.449  298.449  299.656\n",
       " 291.184  291.184  291.184  291.936     298.449  298.449  298.449  299.656"
      ]
     },
     "execution_count": 26,
     "metadata": {},
     "output_type": "execute_result"
    }
   ],
   "source": [
    "d2[:,:,11:20]"
   ]
  },
  {
   "cell_type": "markdown",
   "metadata": {},
   "source": [
    "store the variable names into an array"
   ]
  },
  {
   "cell_type": "code",
   "execution_count": null,
   "metadata": {},
   "outputs": [],
   "source": [
    "vars = getAxis(\"Variable\", d)"
   ]
  },
  {
   "cell_type": "markdown",
   "metadata": {},
   "source": [
    "have a look at the variable names"
   ]
  },
  {
   "cell_type": "code",
   "execution_count": null,
   "metadata": {},
   "outputs": [],
   "source": [
    "vars.values"
   ]
  },
  {
   "cell_type": "markdown",
   "metadata": {},
   "source": [
    "extract longitude and latitude values of the cube grid"
   ]
  },
  {
   "cell_type": "code",
   "execution_count": null,
   "metadata": {},
   "outputs": [],
   "source": [
    "lon = getAxis(\"Lon\", d)"
   ]
  },
  {
   "cell_type": "code",
   "execution_count": null,
   "metadata": {},
   "outputs": [],
   "source": [
    "lat = getAxis(\"Lat\", d)"
   ]
  },
  {
   "cell_type": "markdown",
   "metadata": {},
   "source": [
    "have a look at the lat and lon values"
   ]
  },
  {
   "cell_type": "code",
   "execution_count": null,
   "metadata": {},
   "outputs": [],
   "source": [
    "lat.values"
   ]
  },
  {
   "cell_type": "code",
   "execution_count": null,
   "metadata": {},
   "outputs": [],
   "source": [
    "lon.values"
   ]
  },
  {
   "cell_type": "markdown",
   "metadata": {},
   "source": [
    "create dummy array with number of entries matching the total number of grid cells"
   ]
  },
  {
   "cell_type": "code",
   "execution_count": null,
   "metadata": {},
   "outputs": [],
   "source": [
    "col1 = collect(1:length(lon.values)*length(lat.values))\n",
    "col1 = col1*1.0"
   ]
  },
  {
   "cell_type": "code",
   "execution_count": null,
   "metadata": {},
   "outputs": [],
   "source": [
    "create empty matrix with several colums matching the length of total number of grid cells"
   ]
  },
  {
   "cell_type": "code",
   "execution_count": null,
   "metadata": {},
   "outputs": [],
   "source": [
    "mat = [col1 col1 col1 col1 col1 col1 col1 col1 col1 col1 col1 col1 col1 col1 col1 col1 col1 col1 col1 col1 col1 col1 col1 col1 col1 col1 col1 col1 col1 col1 col1 col1 col1 col1 col1 col1 col1 col1 col1 col1 col1 col1 col1 col1 col1 col1 col1 col1 col1 col1 col1 col1 col1 col1 col1 col1 col1 col1 col1 col1 col1 col1 col1 col1 col1 col1 col1 col1 col1 col1 col1 col1 col1 col1 col1 col1 col1]"
   ]
  },
  {
   "cell_type": "markdown",
   "metadata": {},
   "source": [
    "create a sequence marking the starting points of each latitude column"
   ]
  },
  {
   "cell_type": "code",
   "execution_count": null,
   "metadata": {},
   "outputs": [],
   "source": [
    "len = length(lat)\n",
    "seq=[1:len:length(col1);]\n",
    "append!(seq, length(col1))"
   ]
  },
  {
   "cell_type": "markdown",
   "metadata": {},
   "source": [
    "write lat and lon value-combinations into the first two columns of the empty matrix"
   ]
  },
  {
   "cell_type": "code",
   "execution_count": null,
   "metadata": {},
   "outputs": [],
   "source": [
    "i = 1\n",
    "for j in lon.values\n",
    "  for j1 in lat.values\n",
    "            mat[i,1:2] = [j j1]\n",
    "            i = i + 1\n",
    "        end\n",
    "    end"
   ]
  },
  {
   "cell_type": "code",
   "execution_count": null,
   "metadata": {},
   "outputs": [],
   "source": [
    "typeof(mat)"
   ]
  },
  {
   "cell_type": "markdown",
   "metadata": {},
   "source": [
    "now write the actual values of the data variables into the remaining columns - so far still a problem with missing values; either fix this above by subsetting or interpolating the cube; alternatively replace missing values within the loop (no idea yet how to do this)\n",
    "\n",
    "the last part has to be out of the loop due to the way it is currently coded..."
   ]
  },
  {
   "cell_type": "code",
   "execution_count": null,
   "metadata": {},
   "outputs": [],
   "source": [
    "for j2 in 1:(length(lon.values)-1)\n",
    "   \n",
    "    mat[(seq[j2]:(seq[j2+1]-1)),3:5] = d[j2,:,1,4:6]\n",
    "    print(j2)\n",
    "        \n",
    "end\n",
    "\n",
    "mat[(seq[(length(seq)-1)]:(seq[length(seq)])),3:5] = d[length(lon.values),:,1,4:6]"
   ]
  },
  {
   "cell_type": "code",
   "execution_count": null,
   "metadata": {},
   "outputs": [],
   "source": [
    "mat[:,1:6]"
   ]
  }
 ],
 "metadata": {
  "kernelspec": {
   "display_name": "Julia 1.1.0",
   "language": "julia",
   "name": "julia-1.1"
  },
  "language_info": {
   "file_extension": ".jl",
   "mimetype": "application/julia",
   "name": "julia",
   "version": "1.1.0"
  }
 },
 "nbformat": 4,
 "nbformat_minor": 2
}
