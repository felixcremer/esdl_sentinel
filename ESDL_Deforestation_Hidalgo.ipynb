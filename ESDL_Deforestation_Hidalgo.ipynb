{
 "cells": [
  {
   "cell_type": "markdown",
   "metadata": {},
   "source": [
    "# Deforestation Mapping in Hidalgo Mexico\n",
    "\n",
    "We want to map deforestation areas from Sentinel-1 data. \n",
    "Our testsite is a mountainious region in Hidalgo Mexico which is dominated by temperate forest.o\n",
    "This is the underlying analysis notebook.\n",
    "\n"
   ]
  },
  {
   "cell_type": "markdown",
   "metadata": {},
   "source": [
    "## Package Import\n",
    "\n",
    "We are importing all relevant packages into our namespace"
   ]
  },
  {
   "cell_type": "code",
   "execution_count": 1,
   "metadata": {},
   "outputs": [
    {
     "data": {
      "text/plain": [
       "\"/home/qe89hep/Dokumente/Programmieren/julia_projects/esdl_call/Project.toml\""
      ]
     },
     "execution_count": 1,
     "metadata": {},
     "output_type": "execute_result"
    }
   ],
   "source": [
    "using Pkg\n",
    "Pkg.activate(\".\")"
   ]
  },
  {
   "cell_type": "code",
   "execution_count": 4,
   "metadata": {},
   "outputs": [],
   "source": [
    "using Revise"
   ]
  },
  {
   "cell_type": "code",
   "execution_count": 5,
   "metadata": {},
   "outputs": [],
   "source": [
    "using ESDL"
   ]
  },
  {
   "cell_type": "code",
   "execution_count": 6,
   "metadata": {},
   "outputs": [],
   "source": [
    "using Distributed"
   ]
  },
  {
   "cell_type": "code",
   "execution_count": 7,
   "metadata": {},
   "outputs": [],
   "source": [
    "addprocs(3)\n",
    "@everywhere begin\n",
    "    using Pkg\n",
    "    Pkg.activate(\".\")\n",
    "end"
   ]
  },
  {
   "cell_type": "code",
   "execution_count": null,
   "metadata": {},
   "outputs": [],
   "source": []
  },
  {
   "cell_type": "code",
   "execution_count": 8,
   "metadata": {},
   "outputs": [],
   "source": [
    "@everywhere using Revise"
   ]
  },
  {
   "cell_type": "code",
   "execution_count": 9,
   "metadata": {},
   "outputs": [],
   "source": [
    "using ESDL"
   ]
  },
  {
   "cell_type": "code",
   "execution_count": 10,
   "metadata": {},
   "outputs": [],
   "source": [
    "@everywhere using ESDL\n",
    "#using ESDLPlots"
   ]
  },
  {
   "cell_type": "code",
   "execution_count": 11,
   "metadata": {},
   "outputs": [],
   "source": [
    "@everywhere using Dates: Date\n",
    "@everywhere using Statistics: mean, median, quantile"
   ]
  },
  {
   "cell_type": "code",
   "execution_count": 12,
   "metadata": {},
   "outputs": [],
   "source": [
    "@everywhere using RecurrenceAnalysis"
   ]
  },
  {
   "cell_type": "markdown",
   "metadata": {},
   "source": [
    "## Helper function\n",
    "\n",
    "We are going to first define some helper functions which are needed for the access of the data cube."
   ]
  },
  {
   "cell_type": "code",
   "execution_count": 13,
   "metadata": {},
   "outputs": [
    {
     "data": {
      "text/plain": [
       "copyfun2D (generic function with 1 method)"
      ]
     },
     "execution_count": 13,
     "metadata": {},
     "output_type": "execute_result"
    }
   ],
   "source": [
    "@everywhere function copyfun(xout, xin, inds)\n",
    "    xout .= xin[inds]\n",
    "end\n",
    "\n",
    "function copyfun2D(xout, xin, inds)\n",
    "    xout .= xin[inds[1], inds[2]]\n",
    "end\n",
    "\n"
   ]
  },
  {
   "cell_type": "code",
   "execution_count": 14,
   "metadata": {},
   "outputs": [
    {
     "data": {
      "text/plain": [
       "restrainCube (generic function with 1 method)"
      ]
     },
     "execution_count": 14,
     "metadata": {},
     "output_type": "execute_result"
    }
   ],
   "source": [
    "function restrainCube(cubedata)\n",
    "    hasvalues = mapslices(x -> any(!ismissing, x), cubedata, (\"Lon\", \"Lat\", \"Var\"), max_cache=1e8)\n",
    "\n",
    "    inds = findall(!ismissing, hasvalues[:])\n",
    "    newtimeaxis = TimeAxis(cubedata.timeAxis.values[inds])\n",
    "\n",
    "    # remap to new Time Axis\n",
    "    indims = InDims(\"Time\")\n",
    "    outdims = OutDims(newtimeaxis)\n",
    "    # NOTE: inds is an argument for copyfun\n",
    "    newcube = mapCube(copyfun, cubedata, inds, indims=indims, outdims=outdims, max_cache=1e8)\n",
    "end\n",
    "\n"
   ]
  },
  {
   "cell_type": "code",
   "execution_count": 15,
   "metadata": {},
   "outputs": [
    {
     "data": {
      "text/plain": [
       "Collection of ZArray Cube with the following dimensions\n",
       "Lon                 Axis with 1071 Elements from -98.6870371374164 to -98.49479766661483\n",
       "Lat                 Axis with 1008 Elements from 20.69170568459913 to 20.51078498637746\n",
       "Time                Axis with 1098 Elements from 2014-01-02 to 2020-01-01\n",
       "Variable            Axis with 4 elements: sentinel1_vh_d sentinel1_vv_a sentinel1_vv_d sentinel1_vh_a \n",
       "Total size: 22.08 GB\n"
      ]
     },
     "execution_count": 15,
     "metadata": {},
     "output_type": "execute_result"
    }
   ],
   "source": [
    "c = Cube(\"/media/data/esdl/s1cube_1dayallzarrbbnew/\")"
   ]
  },
  {
   "cell_type": "code",
   "execution_count": 16,
   "metadata": {},
   "outputs": [
    {
     "data": {
      "text/plain": [
       "Collection of ZArray Cube with the following dimensions\n",
       "Lon                 Axis with 1071 Elements from -98.6870371374164 to -98.49479766661483\n",
       "Lat                 Axis with 1008 Elements from 20.69170568459913 to 20.51078498637746\n",
       "Time                Axis with 366 Elements from 2017-03-01 to 2019-02-27\n",
       "Variable            Axis with 4 elements: sentinel1_vh_d sentinel1_vv_a sentinel1_vv_d sentinel1_vh_a \n",
       "Total size: 7.36 GB\n"
      ]
     },
     "execution_count": 16,
     "metadata": {},
     "output_type": "execute_result"
    }
   ],
   "source": [
    "data= subsetcube(c, time=(Date(2017,3,1),Date(2019,3,1)))"
   ]
  },
  {
   "cell_type": "code",
   "execution_count": 17,
   "metadata": {},
   "outputs": [],
   "source": [
    "@everywhere function pixeltrend(pix_trend, pix, dist)\n",
    "    #@show dist\n",
    "    #ind = findall(!ismissing, pix)\n",
    "    rp = RecurrenceMatrix(collect(skipmissing(pix)), dist)\n",
    "    pix_trend .= trend(rp)\n",
    "end"
   ]
  },
  {
   "cell_type": "code",
   "execution_count": 18,
   "metadata": {},
   "outputs": [
    {
     "data": {
      "text/plain": [
       "OutDims((), (), zero, identity, :auto, false, AsArray(), 1)"
      ]
     },
     "execution_count": 18,
     "metadata": {},
     "output_type": "execute_result"
    }
   ],
   "source": [
    "indims=InDims(\"Time\")\n",
    "outdims=OutDims()"
   ]
  },
  {
   "cell_type": "code",
   "execution_count": 19,
   "metadata": {},
   "outputs": [],
   "source": [
    "@everywhere dB(x) = 10 * log10(x)"
   ]
  },
  {
   "cell_type": "code",
   "execution_count": 20,
   "metadata": {},
   "outputs": [
    {
     "data": {
      "text/plain": [
       "Transformed cube Collection of ZArray Cube with the following dimensions\n",
       "Lon                 Axis with 1071 Elements from -98.6870371374164 to -98.49479766661483\n",
       "Lat                 Axis with 1008 Elements from 20.69170568459913 to 20.51078498637746\n",
       "Time                Axis with 366 Elements from 2017-03-01 to 2019-02-27\n",
       "Variable            Axis with 4 elements: sentinel1_vh_d sentinel1_vv_a sentinel1_vv_d sentinel1_vh_a \n",
       "Total size: 7.36 GB\n"
      ]
     },
     "execution_count": 20,
     "metadata": {},
     "output_type": "execute_result"
    }
   ],
   "source": [
    "cube_dB = map(dB, data)"
   ]
  },
  {
   "cell_type": "code",
   "execution_count": 35,
   "metadata": {},
   "outputs": [
    {
     "name": "stderr",
     "output_type": "stream",
     "text": [
      "\u001b[32mProgress: 100%|█████████████████████████████████████████| Time: 0:04:29\u001b[39mm\n"
     ]
    },
    {
     "data": {
      "text/plain": [
       "ZArray Cube with the following dimensions\n",
       "Lon                 Axis with 1071 Elements from -98.6870371374164 to -98.49479766661483\n",
       "Lat                 Axis with 1008 Elements from 20.69170568459913 to 20.51078498637746\n",
       "Variable            Axis with 4 elements: sentinel1_vh_d sentinel1_vv_a sentinel1_vv_d sentinel1_vh_a \n",
       "Total size: 20.59 MB\n"
      ]
     },
     "execution_count": 35,
     "metadata": {},
     "output_type": "execute_result"
    }
   ],
   "source": [
    "trend_dB = mapCube(pixeltrend, cube_dB, 1.5, indims=indims, outdims=outdims)"
   ]
  },
  {
   "cell_type": "code",
   "execution_count": 36,
   "metadata": {},
   "outputs": [
    {
     "name": "stderr",
     "output_type": "stream",
     "text": [
      "\u001b[32mProgress: 100%|█████████████████████████████████████████| Time: 0:00:00\u001b[39m\n"
     ]
    }
   ],
   "source": [
    "exportcube(trend_dB, \"generation/cubes/s1cube_trend_dB.nc\")"
   ]
  },
  {
   "cell_type": "code",
   "execution_count": 21,
   "metadata": {},
   "outputs": [],
   "source": [
    "@everywhere function prange(pix_prange, pix) \n",
    "   ts = collect(skipmissing(pix))\n",
    "   if size(ts,1) == 0\n",
    "       return missing\n",
    "   end\n",
    "   q5, q95 = quantile(ts, [0.05, 0.95])\n",
    "    pix_prange .=q95 - q5\n",
    "end"
   ]
  },
  {
   "cell_type": "code",
   "execution_count": 22,
   "metadata": {},
   "outputs": [
    {
     "name": "stderr",
     "output_type": "stream",
     "text": [
      "\u001b[32mProgress: 100%|█████████████████████████████████████████| Time: 0:00:32\u001b[39mm\n"
     ]
    },
    {
     "data": {
      "text/plain": [
       "ZArray Cube with the following dimensions\n",
       "Lon                 Axis with 1071 Elements from -98.6870371374164 to -98.49479766661483\n",
       "Lat                 Axis with 1008 Elements from 20.69170568459913 to 20.51078498637746\n",
       "Variable            Axis with 4 elements: sentinel1_vh_d sentinel1_vv_a sentinel1_vv_d sentinel1_vh_a \n",
       "Total size: 20.59 MB\n"
      ]
     },
     "execution_count": 22,
     "metadata": {},
     "output_type": "execute_result"
    }
   ],
   "source": [
    "prange_dB = mapCube(prange, cube_dB, indims=indims, outdims=outdims)"
   ]
  },
  {
   "cell_type": "code",
   "execution_count": 24,
   "metadata": {},
   "outputs": [
    {
     "name": "stderr",
     "output_type": "stream",
     "text": [
      "\u001b[32mProgress: 100%|█████████████████████████████████████████| Time: 0:00:01\u001b[39m\n"
     ]
    }
   ],
   "source": [
    "exportcube(prange_dB, \"generation/cubes/s1cube_prange_dB.nc\")"
   ]
  },
  {
   "cell_type": "code",
   "execution_count": 23,
   "metadata": {},
   "outputs": [
    {
     "data": {
      "text/plain": [
       "1071×1008 Array{Union{Missing, Float32},2}:\n",
       "   4.54165    4.02769    3.90328  …    5.01906    4.85577    5.05365\n",
       "   5.79451    4.88501    5.17838       5.37811    4.63482    4.27278\n",
       " Inf          4.9698     5.61016       5.98264    4.75773    4.85357\n",
       " Inf         11.2049     6.42753       4.99875    4.83544    6.13306\n",
       "  10.7195    18.5997   Inf             4.79146    4.77906    4.58645\n",
       "   7.22886    6.79005  Inf        …    4.79477    5.74951    5.31587\n",
       "   4.77874    4.56957    4.57585       4.20219    4.62925    5.42513\n",
       "   3.9575     4.12276    5.40755       5.80259    4.3232     4.74766\n",
       "   4.34092    4.89407    6.43933       4.95928    5.04079    4.81767\n",
       "   4.35751    4.43461    5.30503       4.47699    5.14818    4.54073\n",
       "   3.99686    5.4978     3.69142  …    5.77741    4.77129    4.85984\n",
       "   4.42309    4.63983    5.58666       4.7787     4.24466    4.36454\n",
       "   5.85631    5.92925    4.60246       4.37703    4.90934    4.07065\n",
       "   ⋮                              ⋱    ⋮                            \n",
       " Inf        Inf        Inf           NaN        NaN        NaN      \n",
       " Inf        Inf        Inf        …  NaN        NaN        NaN      \n",
       " Inf        Inf        Inf           NaN        NaN        NaN      \n",
       " Inf        Inf        Inf           NaN        NaN        NaN      \n",
       " Inf        Inf        Inf           NaN        NaN        NaN      \n",
       " Inf        Inf        Inf           NaN        NaN        NaN      \n",
       " Inf        Inf        Inf        …  NaN        NaN        NaN      \n",
       " Inf        Inf        Inf           NaN        NaN        NaN      \n",
       " Inf        Inf        Inf           NaN        NaN        NaN      \n",
       " Inf        Inf        Inf           NaN        NaN        NaN      \n",
       " Inf        Inf        Inf           NaN        NaN        NaN      \n",
       " Inf        Inf        Inf        …  NaN        NaN        NaN      "
      ]
     },
     "execution_count": 23,
     "metadata": {},
     "output_type": "execute_result"
    }
   ],
   "source": [
    "prange_dB[:,:,1]"
   ]
  },
  {
   "cell_type": "code",
   "execution_count": null,
   "metadata": {},
   "outputs": [],
   "source": []
  }
 ],
 "metadata": {
  "@webio": {
   "lastCommId": null,
   "lastKernelId": null
  },
  "kernelspec": {
   "display_name": "Julia 1.1.0",
   "language": "julia",
   "name": "julia-1.1"
  },
  "language_info": {
   "file_extension": ".jl",
   "mimetype": "application/julia",
   "name": "julia",
   "version": "1.1.0"
  }
 },
 "nbformat": 4,
 "nbformat_minor": 2
}
